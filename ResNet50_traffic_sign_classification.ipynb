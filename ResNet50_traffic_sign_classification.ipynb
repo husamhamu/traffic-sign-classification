{
  "nbformat": 4,
  "nbformat_minor": 0,
  "metadata": {
    "coursera": {
      "course_slug": "convolutional-neural-networks",
      "graded_item_id": "OEpi5",
      "launcher_item_id": "jK9EQ"
    },
    "kernelspec": {
      "display_name": "Python 3",
      "language": "python",
      "name": "python3"
    },
    "language_info": {
      "codemirror_mode": {
        "name": "ipython",
        "version": 3
      },
      "file_extension": ".py",
      "mimetype": "text/x-python",
      "name": "python",
      "nbconvert_exporter": "python",
      "pygments_lexer": "ipython3",
      "version": "3.6.0"
    },
    "colab": {
      "name": "ResNet50-traffic_sign_classification.ipynb",
      "provenance": [],
      "collapsed_sections": [],
      "toc_visible": true
    },
    "accelerator": "GPU"
  },
  "cells": [
    {
      "cell_type": "markdown",
      "metadata": {
        "id": "Bfexu_wleVhM"
      },
      "source": [
        "# Residual Networks\n",
        "\n",
        "Welcome to the second assignment of this week! You will learn how to build very deep convolutional networks, using Residual Networks (ResNets). In theory, very deep networks can represent very complex functions; but in practice, they are hard to train. Residual Networks, introduced by [He et al.](https://arxiv.org/pdf/1512.03385.pdf), allow you to train much deeper networks than were previously practically feasible.\n",
        "\n",
        "**In this assignment, you will:**\n",
        "- Implement the basic building blocks of ResNets. \n",
        "- Put together these building blocks to implement and train a state-of-the-art neural network for image classification. "
      ]
    },
    {
      "cell_type": "markdown",
      "metadata": {
        "id": "VUcd9M2teVhP"
      },
      "source": [
        "## <font color='darkblue'>Updates</font>\n",
        "\n",
        "#### If you were working on the notebook before this update...\n",
        "* The current notebook is version \"2a\".\n",
        "* You can find your original work saved in the notebook with the previous version name (\"v2\") \n",
        "* To view the file directory, go to the menu \"File->Open\", and this will open a new tab that shows the file directory.\n",
        "\n",
        "#### List of updates\n",
        "* For testing on an image, replaced `preprocess_input(x)` with `x=x/255.0` to normalize the input image in the same way that the model's training data was normalized.\n",
        "* Refers to \"shallower\" layers as those layers closer to the input, and \"deeper\" layers as those closer to the output (Using \"shallower\" layers instead of \"lower\" or \"earlier\").\n",
        "* Added/updated instructions.\n"
      ]
    },
    {
      "cell_type": "markdown",
      "metadata": {
        "id": "tVCdCYT0eVhP"
      },
      "source": [
        "This assignment will be done in Keras. \n",
        "\n",
        "Before jumping into the problem, let's run the cell below to load the required packages."
      ]
    },
    {
      "cell_type": "code",
      "metadata": {
        "id": "g8d8HAdMeVhQ",
        "colab": {
          "base_uri": "https://localhost:8080/"
        },
        "outputId": "23dfcf1f-b619-407c-8e3c-4572639db83d"
      },
      "source": [
        "import pickle\n",
        "%tensorflow_version 1.15.0\n",
        "import numpy as np\n",
        "from keras import layers\n",
        "from keras.layers import Input, Add, Dense, Activation, ZeroPadding2D, BatchNormalization, Flatten, Conv2D, AveragePooling2D, MaxPooling2D, GlobalMaxPooling2D\n",
        "from keras.models import Model, load_model\n",
        "from keras.preprocessing import image\n",
        "from keras.utils import layer_utils\n",
        "from keras.utils.data_utils import get_file\n",
        "from keras.applications.imagenet_utils import preprocess_input\n",
        "import pydot\n",
        "from IPython.display import SVG\n",
        "from keras.utils.vis_utils import model_to_dot\n",
        "from keras.utils import plot_model\n",
        "from keras.initializers import glorot_uniform\n",
        "import scipy.misc\n",
        "from matplotlib import pyplot\n",
        "import matplotlib.pyplot as plt\n",
        "%matplotlib inline\n",
        "\n",
        "import keras.backend as K\n",
        "K.set_image_data_format('channels_last')\n",
        "K.set_learning_phase(1)\n",
        "import cv2\n",
        "import skimage.morphology as morp\n",
        "from skimage.filters import rank\n",
        "from sklearn.utils import shuffle\n",
        "import random\n",
        "import os\n",
        "\n"
      ],
      "execution_count": null,
      "outputs": [
        {
          "output_type": "stream",
          "text": [
            "`%tensorflow_version` only switches the major version: 1.x or 2.x.\n",
            "You set: `1.15.0`. This will be interpreted as: `1.x`.\n",
            "\n",
            "\n",
            "TensorFlow 1.x selected.\n"
          ],
          "name": "stdout"
        },
        {
          "output_type": "stream",
          "text": [
            "Using TensorFlow backend.\n"
          ],
          "name": "stderr"
        }
      ]
    },
    {
      "cell_type": "code",
      "metadata": {
        "id": "MNT_Tw0EWwrv"
      },
      "source": [
        "import h5py\n",
        "import numpy as np\n",
        "import tensorflow as tf\n",
        "import math\n",
        "\n",
        "def random_mini_batches(X, Y, mini_batch_size = 64, seed = 0):\n",
        "    \"\"\"\n",
        "    Creates a list of random minibatches from (X, Y)\n",
        "    \n",
        "    Arguments:\n",
        "    X -- input data, of shape (input size, number of examples)\n",
        "    Y -- true \"label\" vector (containing 0 if cat, 1 if non-cat), of shape (1, number of examples)\n",
        "    mini_batch_size - size of the mini-batches, integer\n",
        "    seed -- this is only for the purpose of grading, so that you're \"random minibatches are the same as ours.\n",
        "    \n",
        "    Returns:\n",
        "    mini_batches -- list of synchronous (mini_batch_X, mini_batch_Y)\n",
        "    \"\"\"\n",
        "    \n",
        "    m = X.shape[1]                  # number of training examples\n",
        "    mini_batches = []\n",
        "    np.random.seed(seed)\n",
        "    \n",
        "    # Step 1: Shuffle (X, Y)\n",
        "    permutation = list(np.random.permutation(m))\n",
        "    shuffled_X = X[:, permutation]\n",
        "    shuffled_Y = Y[:, permutation].reshape((Y.shape[0],m))\n",
        "\n",
        "    # Step 2: Partition (shuffled_X, shuffled_Y). Minus the end case.\n",
        "    num_complete_minibatches = math.floor(m/mini_batch_size) # number of mini batches of size mini_batch_size in your partitionning\n",
        "    for k in range(0, num_complete_minibatches):\n",
        "        mini_batch_X = shuffled_X[:, k * mini_batch_size : k * mini_batch_size + mini_batch_size]\n",
        "        mini_batch_Y = shuffled_Y[:, k * mini_batch_size : k * mini_batch_size + mini_batch_size]\n",
        "        mini_batch = (mini_batch_X, mini_batch_Y)\n",
        "        mini_batches.append(mini_batch)\n",
        "    \n",
        "    # Handling the end case (last mini-batch < mini_batch_size)\n",
        "    if m % mini_batch_size != 0:\n",
        "        mini_batch_X = shuffled_X[:, num_complete_minibatches * mini_batch_size : m]\n",
        "        mini_batch_Y = shuffled_Y[:, num_complete_minibatches * mini_batch_size : m]\n",
        "        mini_batch = (mini_batch_X, mini_batch_Y)\n",
        "        mini_batches.append(mini_batch)\n",
        "    \n",
        "    return mini_batches\n",
        "\n",
        "def convert_to_one_hot(Y, C):\n",
        "    Y = np.eye(C)[Y.reshape(-1)].T\n",
        "    return Y\n",
        "\n"
      ],
      "execution_count": null,
      "outputs": []
    },
    {
      "cell_type": "markdown",
      "metadata": {
        "id": "liiqBim9eVhR"
      },
      "source": [
        "## 1 - The problem of very deep neural networks\n",
        "\n",
        "Last week, you built your first convolutional neural network. In recent years, neural networks have become deeper, with state-of-the-art networks going from just a few layers (e.g., AlexNet) to over a hundred layers.\n",
        "\n",
        "* The main benefit of a very deep network is that it can represent very complex functions. It can also learn features at many different levels of abstraction, from edges (at the shallower layers, closer to the input) to very complex features (at the deeper layers, closer to the output). \n",
        "* However, using a deeper network doesn't always help. A huge barrier to training them is vanishing gradients: very deep networks often have a gradient signal that goes to zero quickly, thus making gradient descent prohibitively slow. \n",
        "* More specifically, during gradient descent, as you backprop from the final layer back to the first layer, you are multiplying by the weight matrix on each step, and thus the gradient can decrease exponentially quickly to zero (or, in rare cases, grow exponentially quickly and \"explode\" to take very large values). \n",
        "* During training, you might therefore see the magnitude (or norm) of the gradient for the shallower layers decrease to zero very rapidly as training proceeds: "
      ]
    },
    {
      "cell_type": "markdown",
      "metadata": {
        "id": "EYgQxaqDeVhR"
      },
      "source": [
        "<img src=\"images/vanishing_grad_kiank.png\" style=\"width:450px;height:220px;\">\n",
        "<caption><center> <u> <font color='purple'> **Figure 1** </u><font color='purple'>  : **Vanishing gradient** <br> The speed of learning decreases very rapidly for the shallower layers as the network trains </center></caption>\n",
        "\n",
        "You are now going to solve this problem by building a Residual Network!"
      ]
    },
    {
      "cell_type": "markdown",
      "metadata": {
        "id": "I13Lk5hpeVhS"
      },
      "source": [
        "## 2 - Building a Residual Network\n",
        "\n",
        "In ResNets, a \"shortcut\" or a \"skip connection\" allows the model to skip layers:  \n",
        "\n",
        "<img src=\"images/skip_connection_kiank.png\" style=\"width:650px;height:200px;\">\n",
        "<caption><center> <u> <font color='purple'> **Figure 2** </u><font color='purple'>  : A ResNet block showing a **skip-connection** <br> </center></caption>\n",
        "\n",
        "The image on the left shows the \"main path\" through the network. The image on the right adds a shortcut to the main path. By stacking these ResNet blocks on top of each other, you can form a very deep network. \n",
        "\n",
        "We also saw in lecture that having ResNet blocks with the shortcut also makes it very easy for one of the blocks to learn an identity function. This means that you can stack on additional ResNet blocks with little risk of harming training set performance.  \n",
        "    \n",
        "(There is also some evidence that the ease of learning an identity function accounts for ResNets' remarkable performance even more so than skip connections helping with vanishing gradients).\n",
        "\n",
        "Two main types of blocks are used in a ResNet, depending mainly on whether the input/output dimensions are same or different. You are going to implement both of them: the \"identity block\" and the \"convolutional block.\""
      ]
    },
    {
      "cell_type": "markdown",
      "metadata": {
        "id": "FOB_06nAeVhS"
      },
      "source": [
        "### 2.1 - The identity block\n",
        "\n",
        "The identity block is the standard block used in ResNets, and corresponds to the case where the input activation (say $a^{[l]}$) has the same dimension as the output activation (say $a^{[l+2]}$). To flesh out the different steps of what happens in a ResNet's identity block, here is an alternative diagram showing the individual steps:\n",
        "\n",
        "<img src=\"images/idblock2_kiank.png\" style=\"width:650px;height:150px;\">\n",
        "<caption><center> <u> <font color='purple'> **Figure 3** </u><font color='purple'>  : **Identity block.** Skip connection \"skips over\" 2 layers. </center></caption>\n",
        "\n",
        "The upper path is the \"shortcut path.\" The lower path is the \"main path.\" In this diagram, we have also made explicit the CONV2D and ReLU steps in each layer. To speed up training we have also added a BatchNorm step. Don't worry about this being complicated to implement--you'll see that BatchNorm is just one line of code in Keras! \n",
        "\n",
        "In this exercise, you'll actually implement a slightly more powerful version of this identity block, in which the skip connection \"skips over\" 3 hidden layers rather than 2 layers. It looks like this: \n",
        "\n",
        "<img src=\"images/idblock3_kiank.png\" style=\"width:650px;height:150px;\">\n",
        "<caption><center> <u> <font color='purple'> **Figure 4** </u><font color='purple'>  : **Identity block.** Skip connection \"skips over\" 3 layers.</center></caption>"
      ]
    },
    {
      "cell_type": "markdown",
      "metadata": {
        "id": "J5wEV2dYeVhT"
      },
      "source": [
        "Here are the individual steps.\n",
        "\n",
        "First component of main path: \n",
        "- The first CONV2D has $F_1$ filters of shape (1,1) and a stride of (1,1). Its padding is \"valid\" and its name should be `conv_name_base + '2a'`. Use 0 as the seed for the random initialization. \n",
        "- The first BatchNorm is normalizing the 'channels' axis.  Its name should be `bn_name_base + '2a'`.\n",
        "- Then apply the ReLU activation function. This has no name and no hyperparameters. \n",
        "\n",
        "Second component of main path:\n",
        "- The second CONV2D has $F_2$ filters of shape $(f,f)$ and a stride of (1,1). Its padding is \"same\" and its name should be `conv_name_base + '2b'`. Use 0 as the seed for the random initialization. \n",
        "- The second BatchNorm is normalizing the 'channels' axis.  Its name should be `bn_name_base + '2b'`.\n",
        "- Then apply the ReLU activation function. This has no name and no hyperparameters. \n",
        "\n",
        "Third component of main path:\n",
        "- The third CONV2D has $F_3$ filters of shape (1,1) and a stride of (1,1). Its padding is \"valid\" and its name should be `conv_name_base + '2c'`. Use 0 as the seed for the random initialization. \n",
        "- The third BatchNorm is normalizing the 'channels' axis.  Its name should be `bn_name_base + '2c'`. \n",
        "- Note that there is **no** ReLU activation function in this component. \n",
        "\n",
        "Final step: \n",
        "- The `X_shortcut` and the output from the 3rd layer `X` are added together.\n",
        "- **Hint**: The syntax will look something like `Add()([var1,var2])`\n",
        "- Then apply the ReLU activation function. This has no name and no hyperparameters. \n",
        "\n",
        "**Exercise**: Implement the ResNet identity block. We have implemented the first component of the main path. Please read this carefully to make sure you understand what it is doing. You should implement the rest. \n",
        "- To implement the Conv2D step: [Conv2D](https://keras.io/layers/convolutional/#conv2d)\n",
        "- To implement BatchNorm: [BatchNormalization](https://faroit.github.io/keras-docs/1.2.2/layers/normalization/) (axis: Integer, the axis that should be normalized (typically the 'channels' axis))\n",
        "- For the activation, use:  `Activation('relu')(X)`\n",
        "- To add the value passed forward by the shortcut: [Add](https://keras.io/layers/merge/#add)"
      ]
    },
    {
      "cell_type": "code",
      "metadata": {
        "collapsed": true,
        "id": "DGv3r4cCeVhU"
      },
      "source": [
        "# GRADED FUNCTION: identity_block\n",
        "\n",
        "def identity_block(X, f, filters, stage, block):\n",
        "    \"\"\"\n",
        "    Implementation of the identity block as defined in Figure 4\n",
        "    \n",
        "    Arguments:\n",
        "    X -- input tensor of shape (m, n_H_prev, n_W_prev, n_C_prev)\n",
        "    f -- integer, specifying the shape of the middle CONV's window for the main path\n",
        "    filters -- python list of integers, defining the number of filters in the CONV layers of the main path\n",
        "    stage -- integer, used to name the layers, depending on their position in the network\n",
        "    block -- string/character, used to name the layers, depending on their position in the network\n",
        "    \n",
        "    Returns:\n",
        "    X -- output of the identity block, tensor of shape (n_H, n_W, n_C)\n",
        "    \"\"\"\n",
        "    \n",
        "    # defining name basis\n",
        "    conv_name_base = 'res' + str(stage) + block + '_branch'\n",
        "    bn_name_base = 'bn' + str(stage) + block + '_branch'\n",
        "    \n",
        "    # Retrieve Filters\n",
        "    F1, F2, F3 = filters\n",
        "    \n",
        "    # Save the input value. You'll need this later to add back to the main path. \n",
        "    X_shortcut = X\n",
        "    \n",
        "    # First component of main path\n",
        "    X = Conv2D(filters = F1, kernel_size = (1, 1), strides = (1,1), padding = 'valid', name = conv_name_base + '2a', kernel_initializer = glorot_uniform(seed=0))(X)\n",
        "    X = BatchNormalization(axis = 3, name = bn_name_base + '2a')(X)\n",
        "    X = Activation('relu')(X)\n",
        "    \n",
        "    ### START CODE HERE ###\n",
        "    \n",
        "    # Second component of main path (≈3 lines)\n",
        "    X = Conv2D(filters = F2, kernel_size = (f, f), strides = (1,1), padding = 'same', name = conv_name_base + '2b', kernel_initializer = glorot_uniform(seed=0))(X)\n",
        "    X = BatchNormalization(axis = 3, name = bn_name_base + '2b')(X)\n",
        "    X = Activation('relu')(X)\n",
        "\n",
        "    # Third component of main path (≈2 lines)\n",
        "    X = Conv2D(filters = F3, kernel_size = (1, 1), strides = (1,1), padding = 'valid', name = conv_name_base + '2c', kernel_initializer = glorot_uniform(seed=0))(X)\n",
        "    X = BatchNormalization(axis = 3, name = bn_name_base + '2c')(X)\n",
        "\n",
        "    # Final step: Add shortcut value to main path, and pass it through a RELU activation (≈2 lines)\n",
        "    X = Add()([X, X_shortcut])\n",
        "    X = Activation('relu')(X)\n",
        "    \n",
        "    ### END CODE HERE ###\n",
        "    \n",
        "    return X"
      ],
      "execution_count": null,
      "outputs": []
    },
    {
      "cell_type": "code",
      "metadata": {
        "id": "vi4hxncXeVhV"
      },
      "source": [
        "# tf.reset_default_graph()\n",
        "\n",
        "# with tf.Session() as test:\n",
        "#     np.random.seed(1)\n",
        "#     A_prev = tf.placeholder(\"float\", [3, 4, 4, 6])\n",
        "#     X = np.random.randn(3, 4, 4, 6)\n",
        "#     A = identity_block(A_prev, f = 2, filters = [2, 4, 6], stage = 1, block = 'a')\n",
        "#     test.run(tf.global_variables_initializer())\n",
        "#     out = test.run([A], feed_dict={A_prev: X, K.learning_phase(): 0})\n",
        "#     print(\"out = \" + str(out[0][1][1][0]))"
      ],
      "execution_count": null,
      "outputs": []
    },
    {
      "cell_type": "markdown",
      "metadata": {
        "id": "qFayZkFseVhW"
      },
      "source": [
        "**Expected Output**:\n",
        "\n",
        "<table>\n",
        "    <tr>\n",
        "        <td>\n",
        "            **out**\n",
        "        </td>\n",
        "        <td>\n",
        "           [ 0.94822985  0.          1.16101444  2.747859    0.          1.36677003]\n",
        "        </td>\n",
        "    </tr>\n",
        "\n",
        "</table>"
      ]
    },
    {
      "cell_type": "markdown",
      "metadata": {
        "id": "RcVx2HNweVhW"
      },
      "source": [
        "## 2.2 - The convolutional block\n",
        "\n",
        "The ResNet \"convolutional block\" is the second block type. You can use this type of block when the input and output dimensions don't match up. The difference with the identity block is that there is a CONV2D layer in the shortcut path: \n",
        "\n",
        "<img src=\"images/convblock_kiank.png\" style=\"width:650px;height:150px;\">\n",
        "<caption><center> <u> <font color='purple'> **Figure 4** </u><font color='purple'>  : **Convolutional block** </center></caption>\n",
        "\n",
        "* The CONV2D layer in the shortcut path is used to resize the input $x$ to a different dimension, so that the dimensions match up in the final addition needed to add the shortcut value back to the main path. (This plays a similar role as the matrix $W_s$ discussed in lecture.) \n",
        "* For example, to reduce the activation dimensions's height and width by a factor of 2, you can use a 1x1 convolution with a stride of 2. \n",
        "* The CONV2D layer on the shortcut path does not use any non-linear activation function. Its main role is to just apply a (learned) linear function that reduces the dimension of the input, so that the dimensions match up for the later addition step. \n",
        "\n",
        "The details of the convolutional block are as follows. \n",
        "\n",
        "First component of main path:\n",
        "- The first CONV2D has $F_1$ filters of shape (1,1) and a stride of (s,s). Its padding is \"valid\" and its name should be `conv_name_base + '2a'`. Use 0 as the `glorot_uniform` seed.\n",
        "- The first BatchNorm is normalizing the 'channels' axis.  Its name should be `bn_name_base + '2a'`.\n",
        "- Then apply the ReLU activation function. This has no name and no hyperparameters. \n",
        "\n",
        "Second component of main path:\n",
        "- The second CONV2D has $F_2$ filters of shape (f,f) and a stride of (1,1). Its padding is \"same\" and it's name should be `conv_name_base + '2b'`.  Use 0 as the `glorot_uniform` seed.\n",
        "- The second BatchNorm is normalizing the 'channels' axis.  Its name should be `bn_name_base + '2b'`.\n",
        "- Then apply the ReLU activation function. This has no name and no hyperparameters. \n",
        "\n",
        "Third component of main path:\n",
        "- The third CONV2D has $F_3$ filters of shape (1,1) and a stride of (1,1). Its padding is \"valid\" and it's name should be `conv_name_base + '2c'`.  Use 0 as the `glorot_uniform` seed.\n",
        "- The third BatchNorm is normalizing the 'channels' axis.  Its name should be `bn_name_base + '2c'`. Note that there is no ReLU activation function in this component. \n",
        "\n",
        "Shortcut path:\n",
        "- The CONV2D has $F_3$ filters of shape (1,1) and a stride of (s,s). Its padding is \"valid\" and its name should be `conv_name_base + '1'`.  Use 0 as the `glorot_uniform` seed.\n",
        "- The BatchNorm is normalizing the 'channels' axis.  Its name should be `bn_name_base + '1'`. \n",
        "\n",
        "Final step: \n",
        "- The shortcut and the main path values are added together.\n",
        "- Then apply the ReLU activation function. This has no name and no hyperparameters. \n",
        "    \n",
        "**Exercise**: Implement the convolutional block. We have implemented the first component of the main path; you should implement the rest. As before, always use 0 as the seed for the random initialization, to ensure consistency with our grader.\n",
        "- [Conv2D](https://keras.io/layers/convolutional/#conv2d)\n",
        "- [BatchNormalization](https://keras.io/layers/normalization/#batchnormalization) (axis: Integer, the axis that should be normalized (typically the features axis))\n",
        "- For the activation, use:  `Activation('relu')(X)`\n",
        "- [Add](https://keras.io/layers/merge/#add)"
      ]
    },
    {
      "cell_type": "code",
      "metadata": {
        "collapsed": true,
        "id": "RaVQzFZUeVhX"
      },
      "source": [
        "# GRADED FUNCTION: convolutional_block\n",
        "\n",
        "def convolutional_block(X, f, filters, stage, block, s = 2):\n",
        "    \"\"\"\n",
        "    Implementation of the convolutional block as defined in Figure 4\n",
        "    \n",
        "    Arguments:\n",
        "    X -- input tensor of shape (m, n_H_prev, n_W_prev, n_C_prev)\n",
        "    f -- integer, specifying the shape of the middle CONV's window for the main path\n",
        "    filters -- python list of integers, defining the number of filters in the CONV layers of the main path\n",
        "    stage -- integer, used to name the layers, depending on their position in the network\n",
        "    block -- string/character, used to name the layers, depending on their position in the network\n",
        "    s -- Integer, specifying the stride to be used\n",
        "    \n",
        "    Returns:\n",
        "    X -- output of the convolutional block, tensor of shape (n_H, n_W, n_C)\n",
        "    \"\"\"\n",
        "    \n",
        "    # defining name basis\n",
        "    conv_name_base = 'res' + str(stage) + block + '_branch'\n",
        "    bn_name_base = 'bn' + str(stage) + block + '_branch'\n",
        "    \n",
        "    # Retrieve Filters\n",
        "    F1, F2, F3 = filters\n",
        "    \n",
        "    # Save the input value\n",
        "    X_shortcut = X\n",
        "\n",
        "\n",
        "    ##### MAIN PATH #####\n",
        "    # First component of main path \n",
        "    X = Conv2D(F1, (1, 1), strides = (s,s), padding = 'valid', name = conv_name_base + '2a', kernel_initializer = glorot_uniform(seed=0))(X)\n",
        "    X = BatchNormalization(axis = 3, name = bn_name_base + '2a')(X)\n",
        "    X = Activation('relu')(X)\n",
        "    \n",
        "    ### START CODE HERE ###\n",
        "\n",
        "    # Second component of main path (≈3 lines)\n",
        "    X = Conv2D(F2,  kernel_size = (f, f), strides = (1,1), padding = 'same', name = conv_name_base + '2b', kernel_initializer = glorot_uniform(seed=0))(X)\n",
        "    X = BatchNormalization(axis = 3, name = bn_name_base + '2b')(X)\n",
        "    X = Activation('relu')(X)\n",
        "\n",
        "    # Third component of main path (≈2 lines)\n",
        "    X = Conv2D(F3, kernel_size = (1, 1), strides = (1,1), padding = 'valid', name = conv_name_base + '2c', kernel_initializer = glorot_uniform(seed=0))(X)\n",
        "    X = BatchNormalization(axis = 3, name = bn_name_base + '2c')(X)\n",
        "\n",
        "    ##### SHORTCUT PATH #### (≈2 lines)\n",
        "    X_shortcut = Conv2D(F3, (1, 1), strides = (s,s), padding = 'valid', name = conv_name_base + '1', kernel_initializer = glorot_uniform(seed=0))(X_shortcut)\n",
        "    X_shortcut = BatchNormalization(axis = 3, name = bn_name_base + '1')(X_shortcut)\n",
        "\n",
        "    # Final step: Add shortcut value to main path, and pass it through a RELU activation (≈2 lines)\n",
        "    X = Add()([X, X_shortcut])\n",
        "    X = Activation('relu')(X) \n",
        "    \n",
        "    ### END CODE HERE ###\n",
        "    \n",
        "    return X"
      ],
      "execution_count": null,
      "outputs": []
    },
    {
      "cell_type": "code",
      "metadata": {
        "id": "o9-8IBYMeVhY"
      },
      "source": [
        "# tf.reset_default_graph()\n",
        "\n",
        "# with tf.Session() as test:\n",
        "#     np.random.seed(1)\n",
        "#     A_prev = tf.placeholder(\"float\", [3, 4, 4, 6])\n",
        "#     X = np.random.randn(3, 4, 4, 6)\n",
        "#     A = convolutional_block(A_prev, f = 2, filters = [2, 4, 6], stage = 1, block = 'a')\n",
        "#     test.run(tf.global_variables_initializer())\n",
        "#     out = test.run([A], feed_dict={A_prev: X, K.learning_phase(): 0})\n",
        "#     print(\"out = \" + str(out[0][1][1][0]))"
      ],
      "execution_count": null,
      "outputs": []
    },
    {
      "cell_type": "markdown",
      "metadata": {
        "id": "nYnQfVPseVhY"
      },
      "source": [
        "**Expected Output**:\n",
        "\n",
        "<table>\n",
        "    <tr>\n",
        "        <td>\n",
        "            **out**\n",
        "        </td>\n",
        "        <td>\n",
        "           [ 0.09018463  1.23489773  0.46822017  0.0367176   0.          0.65516603]\n",
        "        </td>\n",
        "    </tr>\n",
        "\n",
        "</table>"
      ]
    },
    {
      "cell_type": "markdown",
      "metadata": {
        "id": "ZepInNj0eVhY"
      },
      "source": [
        "## 3 - Building your first ResNet model (50 layers)\n",
        "\n",
        "You now have the necessary blocks to build a very deep ResNet. The following figure describes in detail the architecture of this neural network. \"ID BLOCK\" in the diagram stands for \"Identity block,\" and \"ID BLOCK x3\" means you should stack 3 identity blocks together.\n",
        "\n",
        "<img src=\"images/resnet_kiank.png\" style=\"width:850px;height:150px;\">\n",
        "<caption><center> <u> <font color='purple'> **Figure 5** </u><font color='purple'>  : **ResNet-50 model** </center></caption>\n",
        "\n",
        "The details of this ResNet-50 model are:\n",
        "- Zero-padding pads the input with a pad of (3,3)\n",
        "- Stage 1:\n",
        "    - The 2D Convolution has 64 filters of shape (7,7) and uses a stride of (2,2). Its name is \"conv1\".\n",
        "    - BatchNorm is applied to the 'channels' axis of the input.\n",
        "    - MaxPooling uses a (3,3) window and a (2,2) stride.\n",
        "- Stage 2:\n",
        "    - The convolutional block uses three sets of filters of size [64,64,256], \"f\" is 3, \"s\" is 1 and the block is \"a\".\n",
        "    - The 2 identity blocks use three sets of filters of size [64,64,256], \"f\" is 3 and the blocks are \"b\" and \"c\".\n",
        "- Stage 3:\n",
        "    - The convolutional block uses three sets of filters of size [128,128,512], \"f\" is 3, \"s\" is 2 and the block is \"a\".\n",
        "    - The 3 identity blocks use three sets of filters of size [128,128,512], \"f\" is 3 and the blocks are \"b\", \"c\" and \"d\".\n",
        "- Stage 4:\n",
        "    - The convolutional block uses three sets of filters of size [256, 256, 1024], \"f\" is 3, \"s\" is 2 and the block is \"a\".\n",
        "    - The 5 identity blocks use three sets of filters of size [256, 256, 1024], \"f\" is 3 and the blocks are \"b\", \"c\", \"d\", \"e\" and \"f\".\n",
        "- Stage 5:\n",
        "    - The convolutional block uses three sets of filters of size [512, 512, 2048], \"f\" is 3, \"s\" is 2 and the block is \"a\".\n",
        "    - The 2 identity blocks use three sets of filters of size [512, 512, 2048], \"f\" is 3 and the blocks are \"b\" and \"c\".\n",
        "- The 2D Average Pooling uses a window of shape (2,2) and its name is \"avg_pool\".\n",
        "- The 'flatten' layer doesn't have any hyperparameters or name.\n",
        "- The Fully Connected (Dense) layer reduces its input to the number of classes using a softmax activation. Its name should be `'fc' + str(classes)`.\n",
        "\n",
        "**Exercise**: Implement the ResNet with 50 layers described in the figure above. We have implemented Stages 1 and 2. Please implement the rest. (The syntax for implementing Stages 3-5 should be quite similar to that of Stage 2.) Make sure you follow the naming convention in the text above. \n",
        "\n",
        "You'll need to use this function: \n",
        "- Average pooling [see reference](https://keras.io/layers/pooling/#averagepooling2d)\n",
        "\n",
        "Here are some other functions we used in the code below:\n",
        "- Conv2D: [See reference](https://keras.io/layers/convolutional/#conv2d)\n",
        "- BatchNorm: [See reference](https://keras.io/layers/normalization/#batchnormalization) (axis: Integer, the axis that should be normalized (typically the features axis))\n",
        "- Zero padding: [See reference](https://keras.io/layers/convolutional/#zeropadding2d)\n",
        "- Max pooling: [See reference](https://keras.io/layers/pooling/#maxpooling2d)\n",
        "- Fully connected layer: [See reference](https://keras.io/layers/core/#dense)\n",
        "- Addition: [See reference](https://keras.io/layers/merge/#add)"
      ]
    },
    {
      "cell_type": "code",
      "metadata": {
        "collapsed": true,
        "id": "-ezKwrsaeVhZ"
      },
      "source": [
        "# GRADED FUNCTION: ResNet50\n",
        "\n",
        "def ResNet50(input_shape = (64, 64, 1), classes = 43):\n",
        "    \"\"\"\n",
        "    Implementation of the popular ResNet50 the following architecture:\n",
        "    CONV2D -> BATCHNORM -> RELU -> MAXPOOL -> CONVBLOCK -> IDBLOCK*2 -> CONVBLOCK -> IDBLOCK*3\n",
        "    -> CONVBLOCK -> IDBLOCK*5 -> CONVBLOCK -> IDBLOCK*2 -> AVGPOOL -> TOPLAYER\n",
        "\n",
        "    Arguments:\n",
        "    input_shape -- shape of the images of the dataset\n",
        "    classes -- integer, number of classes\n",
        "\n",
        "    Returns:\n",
        "    model -- a Model() instance in Keras\n",
        "    \"\"\"\n",
        "    \n",
        "    # Define the input as a tensor with shape input_shape\n",
        "    X_input = Input(input_shape)\n",
        "\n",
        "    \n",
        "    # Zero-Padding\n",
        "    X = ZeroPadding2D((3, 3))(X_input)\n",
        "    \n",
        "    # Stage 1\n",
        "    X = Conv2D(64, (7, 7), strides = (2, 2), name = 'conv1', kernel_initializer = glorot_uniform(seed=0))(X)\n",
        "    X = BatchNormalization(axis = 3, name = 'bn_conv1')(X)\n",
        "    X = Activation('relu')(X)\n",
        "    X = MaxPooling2D((3, 3), strides=(2, 2))(X)\n",
        "\n",
        "    # Stage 2\n",
        "    X = convolutional_block(X, f = 3, filters = [64, 64, 256], stage = 2, block='a', s = 1)\n",
        "    X = identity_block(X, 1, [64, 64, 256], stage=2, block='b')\n",
        "    X = identity_block(X, 1, [64, 64, 256], stage=2, block='c')\n",
        "\n",
        "    ### START CODE HERE ###\n",
        "\n",
        "    # Stage 3\n",
        "    X = convolutional_block(X, f=3, filters=[128, 128, 512], stage=3, block='a', s=2)\n",
        "    X = identity_block(X, 1, [128, 128, 512], stage=3, block='b')\n",
        "    X = identity_block(X, 1, [128, 128, 512], stage=3, block='c')\n",
        "    X = identity_block(X, 1, [128, 128, 512], stage=3, block='d')\n",
        "\n",
        "    # Stage 4\n",
        "    X = convolutional_block(X, f=3, filters=[256, 256, 1024], stage=4, block='a', s=2)\n",
        "    X = identity_block(X, 1, [256, 256, 1024], stage=4, block='b')\n",
        "    X = identity_block(X, 1, [256, 256, 1024], stage=4, block='c')\n",
        "    X = identity_block(X, 1, [256, 256, 1024], stage=4, block='d')\n",
        "    X = identity_block(X, 1, [256, 256, 1024], stage=4, block='e')\n",
        "    X = identity_block(X, 1, [256, 256, 1024], stage=4, block='f')\n",
        "\n",
        "    # Stage 5\n",
        "    X = convolutional_block(X, f=3, filters=[512, 512, 2048], stage=5, block='a', s=2)\n",
        "    X = identity_block(X, 1, [512, 512, 2048], stage=5, block='b')\n",
        "    X = identity_block(X, 1, [512, 512, 2048], stage=5, block='c')\n",
        "\n",
        "    # Average Pooling\n",
        "    X = AveragePooling2D((2, 2), name='avg_pool')(X)\n",
        "    \n",
        "    ### END CODE HERE ###\n",
        "\n",
        "    # output layer\n",
        "    X = Flatten()(X)\n",
        "    X = Dense(classes, activation='softmax', name='fc' + str(classes), kernel_initializer = glorot_uniform(seed=0))(X)\n",
        "    \n",
        "    \n",
        "    # Create model\n",
        "    model = Model(inputs = X_input, outputs = X, name='ResNet50')\n",
        "\n",
        "    return model"
      ],
      "execution_count": null,
      "outputs": []
    },
    {
      "cell_type": "markdown",
      "metadata": {
        "id": "eg1CIMdLeVha"
      },
      "source": [
        "Run the following code to build the model's graph. If your implementation is not correct you will know it by checking your accuracy when running `model.fit(...)` below."
      ]
    },
    {
      "cell_type": "code",
      "metadata": {
        "collapsed": true,
        "id": "IB5CTLW5eVha",
        "colab": {
          "base_uri": "https://localhost:8080/"
        },
        "outputId": "72a1de2e-2082-46c9-a4b7-666bf5e633e8"
      },
      "source": [
        "model = ResNet50(input_shape = (64, 64, 1), classes = 43)"
      ],
      "execution_count": null,
      "outputs": [
        {
          "output_type": "stream",
          "text": [
            "WARNING:tensorflow:From /tensorflow-1.15.2/python3.7/tensorflow_core/python/ops/resource_variable_ops.py:1630: calling BaseResourceVariable.__init__ (from tensorflow.python.ops.resource_variable_ops) with constraint is deprecated and will be removed in a future version.\n",
            "Instructions for updating:\n",
            "If using Keras pass *_constraint arguments to layers.\n",
            "WARNING:tensorflow:From /tensorflow-1.15.2/python3.7/keras/backend/tensorflow_backend.py:4070: The name tf.nn.max_pool is deprecated. Please use tf.nn.max_pool2d instead.\n",
            "\n",
            "WARNING:tensorflow:From /tensorflow-1.15.2/python3.7/keras/backend/tensorflow_backend.py:4074: The name tf.nn.avg_pool is deprecated. Please use tf.nn.avg_pool2d instead.\n",
            "\n"
          ],
          "name": "stdout"
        }
      ]
    },
    {
      "cell_type": "markdown",
      "metadata": {
        "id": "mEYQKn6YeVha"
      },
      "source": [
        "As seen in the Keras Tutorial Notebook, prior training a model, you need to configure the learning process by compiling the model."
      ]
    },
    {
      "cell_type": "code",
      "metadata": {
        "collapsed": true,
        "id": "29kj3ywUeVha"
      },
      "source": [
        "model.compile(optimizer='adam', loss='categorical_crossentropy', metrics=['accuracy'])"
      ],
      "execution_count": null,
      "outputs": []
    },
    {
      "cell_type": "code",
      "metadata": {
        "id": "1h2cvCNXf2wM",
        "colab": {
          "base_uri": "https://localhost:8080/"
        },
        "outputId": "3c6c77e0-b81b-4037-a260-0454cf6e9617"
      },
      "source": [
        "from google.colab import drive\n",
        "drive.mount('/content/drive')"
      ],
      "execution_count": null,
      "outputs": [
        {
          "output_type": "stream",
          "text": [
            "Drive already mounted at /content/drive; to attempt to forcibly remount, call drive.mount(\"/content/drive\", force_remount=True).\n"
          ],
          "name": "stdout"
        }
      ]
    },
    {
      "cell_type": "code",
      "metadata": {
        "id": "oA1HkUMef-ub"
      },
      "source": [
        "#load data\n",
        "\n",
        "training_file = '/content/drive/MyDrive/Colab Notebooks/Datasets/train.p'\n",
        "validation_file='/content/drive/MyDrive/Colab Notebooks/Datasets/valid.p'\n",
        "testing_file = '/content/drive/MyDrive/Colab Notebooks/Datasets/test.p'\n",
        "\n",
        "with open(training_file, mode='rb') as f:\n",
        "    train = pickle.load(f)\n",
        "with open(validation_file, mode='rb') as f:\n",
        "    valid = pickle.load(f)\n",
        "with open(testing_file, mode='rb') as f:\n",
        "    test = pickle.load(f)\n",
        "    \n",
        "#uncomment this if you want to train on the original data! but I have now augumented Data!\n",
        "X_train_orig, Y_train_orig = train['features'], train['labels']\n",
        "X_valid_orig, Y_valid_orig = valid['features'], valid['labels']\n",
        "X_test_orig, Y_test_orig = test['features'], test['labels']"
      ],
      "execution_count": null,
      "outputs": []
    },
    {
      "cell_type": "code",
      "metadata": {
        "id": "bXAm5tQaOOnr",
        "colab": {
          "base_uri": "https://localhost:8080/",
          "height": 283
        },
        "outputId": "7ca77d34-c0d6-41b7-cf44-c78e98496fe6"
      },
      "source": [
        "plt.imshow(X_train_orig[894])"
      ],
      "execution_count": null,
      "outputs": [
        {
          "output_type": "execute_result",
          "data": {
            "text/plain": [
              "<matplotlib.image.AxesImage at 0x7f497fb0edd0>"
            ]
          },
          "metadata": {
            "tags": []
          },
          "execution_count": 9
        },
        {
          "output_type": "display_data",
          "data": {
            "image/png": "[encoded data removed]",
            "text/plain": [
              "<Figure size 432x288 with 1 Axes>"
            ]
          },
          "metadata": {
            "tags": [],
            "needs_background": "light"
          }
        }
      ]
    },
    {
      "cell_type": "code",
      "metadata": {
        "id": "syEFlpeAUOlY"
      },
      "source": [
        "#onlu once!\n",
        "# # resize the train, test and valid data\n",
        "\n",
        "# x_test=[] \n",
        "# x_valid=[]\n",
        "# x_train=[] \n",
        "# for img in X_train_orig:\n",
        "#   x_train.append(cv2.resize(img, (64,64), interpolation = cv2.INTER_AREA))\n",
        "# for img in X_test_orig:\n",
        "#   x_test.append(cv2.resize(img, (64,64), interpolation = cv2.INTER_AREA))\n",
        "# for img in X_valid_orig:\n",
        "#   x_valid.append(cv2.resize(img, (64,64), interpolation = cv2.INTER_AREA)) \n",
        "\n",
        "# np.savez_compressed('/content/drive/MyDrive/Colab Notebooks/Datasets/dataset64', train = x_train, valid=x_valid, test=x_test)\n"
      ],
      "execution_count": null,
      "outputs": []
    },
    {
      "cell_type": "code",
      "metadata": {
        "id": "RIqrh6xESoGY"
      },
      "source": [
        "#load 64by64 data \n",
        "\n",
        "loaded = np.load('/content/drive/MyDrive/Colab Notebooks/Datasets/dataset64.npz')\n",
        "X_train_orig = loaded['train']\n",
        "X_test_orig  = loaded['test']\n",
        "X_valid_orig = loaded['valid']"
      ],
      "execution_count": null,
      "outputs": []
    },
    {
      "cell_type": "code",
      "metadata": {
        "id": "ery11DpLcFU7"
      },
      "source": [
        "# gray scaling!\n",
        "\n",
        "def gray_scale(image):\n",
        "    \"\"\"\n",
        "    Convert images to gray scale.\n",
        "        Parameters:\n",
        "            image: An np.array compatible with plt.imshow.\n",
        "    \"\"\"\n",
        "    return cv2.cvtColor(image, cv2.COLOR_RGB2GRAY)"
      ],
      "execution_count": null,
      "outputs": []
    },
    {
      "cell_type": "code",
      "metadata": {
        "id": "hgGCWbuwcLgb"
      },
      "source": [
        "#Local Histogram Equalization\n",
        "\n",
        "def local_histo_equalize(image):\n",
        "    \"\"\"\n",
        "    Apply local histogram equalization to grayscale images.\n",
        "        Parameters:\n",
        "            image: A grayscale image.\n",
        "    \"\"\"\n",
        "    kernel = morp.disk(30)\n",
        "    img_local = rank.equalize(image, selem=kernel)\n",
        "    return img_local"
      ],
      "execution_count": null,
      "outputs": []
    },
    {
      "cell_type": "code",
      "metadata": {
        "id": "xRhNBWLacRmz"
      },
      "source": [
        "# normalization\n",
        "\n",
        "def image_normalize(image):\n",
        "    \"\"\"\n",
        "    Normalize images to [0, 1] scale.\n",
        "        Parameters:\n",
        "            image: An np.array compatible with plt.imshow.\n",
        "    \"\"\"\n",
        "    image = np.divide(image, 255)\n",
        "    return image"
      ],
      "execution_count": null,
      "outputs": []
    },
    {
      "cell_type": "code",
      "metadata": {
        "id": "KqIOPN8bcXMK"
      },
      "source": [
        "def preprocess(data):\n",
        "    \"\"\"\n",
        "    Applying the preprocessing steps to the input data.\n",
        "        Parameters:\n",
        "            data: An np.array compatible with plt.imshow.\n",
        "    \"\"\"\n",
        "    gray_images = list(map(gray_scale, data))\n",
        "    equalized_images = list(map(local_histo_equalize, gray_images))\n",
        "    n_training = data.shape\n",
        "    normalized_images = np.zeros((n_training[0], n_training[1], n_training[2]))\n",
        "    for i, img in enumerate(equalized_images):\n",
        "        normalized_images[i] = image_normalize(img)\n",
        "    normalized_images = normalized_images[..., None]\n",
        "    return normalized_images"
      ],
      "execution_count": null,
      "outputs": []
    },
    {
      "cell_type": "code",
      "metadata": {
        "id": "TyEEi9mzcf1T"
      },
      "source": [
        "X_train_preprocessed = preprocess(X_train_orig)"
      ],
      "execution_count": null,
      "outputs": []
    },
    {
      "cell_type": "code",
      "metadata": {
        "id": "JPsfdM6F6jiF"
      },
      "source": [
        "X_valid_preprocessed = preprocess(X_valid_orig)"
      ],
      "execution_count": null,
      "outputs": []
    },
    {
      "cell_type": "code",
      "metadata": {
        "id": "blVdgKvNfmX4"
      },
      "source": [
        "X_test_preprocessed = preprocess(X_test_orig)"
      ],
      "execution_count": null,
      "outputs": []
    },
    {
      "cell_type": "code",
      "metadata": {
        "colab": {
          "base_uri": "https://localhost:8080/"
        },
        "id": "61cLnbcGuh8J",
        "outputId": "dadc0939-69a3-4829-8eff-8dc40c963ffa"
      },
      "source": [
        "X_train_preprocessed.shape"
      ],
      "execution_count": null,
      "outputs": [
        {
          "output_type": "execute_result",
          "data": {
            "text/plain": [
              "(34799, 64, 64, 1)"
            ]
          },
          "metadata": {
            "tags": []
          },
          "execution_count": 18
        }
      ]
    },
    {
      "cell_type": "code",
      "metadata": {
        "colab": {
          "base_uri": "https://localhost:8080/",
          "height": 285
        },
        "id": "VBainklRiOxn",
        "outputId": "7e5d0724-8ebf-47b8-e432-0f8326d2e072"
      },
      "source": [
        "# to show a gray image you need to have (64, 64) with no channel Info\n",
        "# so a trick to show is to:\n",
        "img = cv2.resize(X_train_preprocessed[9877], (64,64), interpolation = cv2.INTER_AREA)\n",
        "plt.imshow(img,cmap='gray')\n",
        "img.shape"
      ],
      "execution_count": null,
      "outputs": [
        {
          "output_type": "execute_result",
          "data": {
            "text/plain": [
              "(64, 64)"
            ]
          },
          "metadata": {
            "tags": []
          },
          "execution_count": 19
        },
        {
          "output_type": "display_data",
          "data": {
            "image/png": "[encoded data removed]",
            "text/plain": [
              "<Figure size 432x288 with 1 Axes>"
            ]
          },
          "metadata": {
            "tags": [],
            "needs_background": "light"
          }
        }
      ]
    },
    {
      "cell_type": "markdown",
      "metadata": {
        "id": "ZhVQVUGceVha"
      },
      "source": [
        "The model is now ready to be trained. The only thing you need is a dataset."
      ]
    },
    {
      "cell_type": "markdown",
      "metadata": {
        "id": "l39wPNyAeVhb"
      },
      "source": [
        "Let's load the SIGNS Dataset.\n",
        "\n",
        "<img src=\"images/signs_data_kiank.png\" style=\"width:450px;height:250px;\">\n",
        "<caption><center> <u> <font color='purple'> **Figure 6** </u><font color='purple'>  : **SIGNS dataset** </center></caption>\n"
      ]
    },
    {
      "cell_type": "code",
      "metadata": {
        "scrolled": true,
        "id": "Ortadvz3eVhb",
        "colab": {
          "base_uri": "https://localhost:8080/"
        },
        "outputId": "4e5dbd6a-4071-424d-ceb7-a5261fb5bf5d"
      },
      "source": [
        "# Normalize image vectors\n",
        "X_train = X_train_preprocessed\n",
        "X_test = X_test_preprocessed\n",
        "X_valid = X_valid_preprocessed\n",
        "\n",
        "# Convert training and test labels to one hot matrices\n",
        "Y_train = convert_to_one_hot(Y_train_orig, 43).T\n",
        "Y_test = convert_to_one_hot(Y_test_orig, 43).T\n",
        "Y_valid = convert_to_one_hot(Y_valid_orig, 43).T\n",
        "\n",
        "print (\"number of training examples = \" + str(X_train.shape[0]))\n",
        "# print (\"number of test examples = \" + str(X_test.shape[0]))\n",
        "print (\"X_train shape: \" + str(X_train.shape))\n",
        "print (\"Y_train shape: \" + str(Y_train.shape))\n",
        "print (\"X_test shape: \" + str(X_test.shape))\n",
        "print (\"Y_test shape: \" + str(Y_test.shape))\n",
        "print (\"X_test shape: \" + str(X_valid.shape))\n",
        "print (\"Y_test shape: \" + str(Y_valid.shape))"
      ],
      "execution_count": null,
      "outputs": [
        {
          "output_type": "stream",
          "text": [
            "number of training examples = 34799\n",
            "X_train shape: (34799, 64, 64, 1)\n",
            "Y_train shape: (34799, 43)\n",
            "X_test shape: (12630, 64, 64, 1)\n",
            "Y_test shape: (12630, 43)\n",
            "X_test shape: (4410, 64, 64, 1)\n",
            "Y_test shape: (4410, 43)\n"
          ],
          "name": "stdout"
        }
      ]
    },
    {
      "cell_type": "markdown",
      "metadata": {
        "id": "iq_gmgvQEpbT"
      },
      "source": [
        "##Train model with ImageDataGenerator and different compiling parameters"
      ]
    },
    {
      "cell_type": "code",
      "metadata": {
        "id": "A4wMP7zlA1eX"
      },
      "source": [
        "from keras.preprocessing.image import ImageDataGenerator\n",
        "\n",
        "train_datagen = ImageDataGenerator(\n",
        "    rescale=1./255,\n",
        "    featurewise_center=False, \n",
        "    featurewise_std_normalization=False, \n",
        "    zoom_range=0.2,\n",
        "    shear_range=0.2,\n",
        "    rotation_range=10.,\n",
        "    width_shift_range=0.1,\n",
        "    height_shift_range=0.1,\n",
        "    horizontal_flip=False,\n",
        "    fill_mode='nearest')\n",
        "\n",
        "# Note that the validation data should not be augmented!\n",
        "test_datagen = ImageDataGenerator(rescale=1./255)"
      ],
      "execution_count": null,
      "outputs": []
    },
    {
      "cell_type": "code",
      "metadata": {
        "id": "KSwiG6piBAxE"
      },
      "source": [
        "# Our training data generator\n",
        "train_generator = train_datagen.flow(X_train, Y_train, batch_size=128)\n",
        "\n",
        "# Out validation data generator\n",
        "validation_generator = test_datagen.flow(X_valid, Y_valid, batch_size=128)"
      ],
      "execution_count": null,
      "outputs": []
    },
    {
      "cell_type": "code",
      "metadata": {
        "colab": {
          "base_uri": "https://localhost:8080/"
        },
        "id": "crsLa8NlBhpg",
        "outputId": "4e607d02-f5a2-4ffe-8062-0a166adfbba7"
      },
      "source": [
        "from keras.optimizers import SGD\n",
        "from keras.callbacks import ModelCheckpoint, EarlyStopping, Callback, LearningRateScheduler\n",
        "\n",
        "#create modle0\n",
        "model0 = ResNet50(input_shape = (64, 64, 1), classes = 43)\n",
        "\n",
        "#optimzation parameter\n",
        "lr = 0.01\n",
        "sgd = SGD(lr=lr, decay=1e-6, momentum=0.9, nesterov=True)\n",
        "model0.compile(loss='categorical_crossentropy', optimizer=sgd, metrics=['accuracy'])\n",
        "\n",
        "# Early stopping, if progress on validation data does not improve after 10 epochs\n",
        "early_stop = EarlyStopping(monitor='val_loss', patience=10, verbose=0, mode='min')\n",
        "\n",
        "# Our learning rate scheduler\n",
        "def lr_schedule(epoch):\n",
        "    return lr*(0.1**int(epoch/10))\n",
        "\n",
        "# Train our model0\n",
        "history = model0.fit_generator(train_generator, steps_per_epoch=len(X_train) / 128, epochs=20,\n",
        "        validation_data=validation_generator, validation_steps=len(X_valid) / 128, \n",
        "        verbose=2, callbacks=[LearningRateScheduler(lr_schedule), early_stop])"
      ],
      "execution_count": null,
      "outputs": [
        {
          "output_type": "stream",
          "text": [
            "Epoch 1/20\n",
            " - 39s - loss: 2.7632 - accuracy: 0.3202 - val_loss: 1.0285 - val_accuracy: 0.6048\n",
            "Epoch 2/20\n",
            " - 34s - loss: 1.0814 - accuracy: 0.6663 - val_loss: 0.7927 - val_accuracy: 0.7576\n",
            "Epoch 3/20\n",
            " - 34s - loss: 0.6747 - accuracy: 0.7899 - val_loss: 0.8688 - val_accuracy: 0.8111\n",
            "Epoch 4/20\n",
            " - 34s - loss: 0.4739 - accuracy: 0.8497 - val_loss: 0.8031 - val_accuracy: 0.8342\n",
            "Epoch 5/20\n",
            " - 35s - loss: 0.3549 - accuracy: 0.8839 - val_loss: 0.4113 - val_accuracy: 0.8664\n",
            "Epoch 6/20\n",
            " - 35s - loss: 0.2754 - accuracy: 0.9116 - val_loss: 0.6068 - val_accuracy: 0.8810\n",
            "Epoch 7/20\n",
            " - 35s - loss: 0.2224 - accuracy: 0.9280 - val_loss: 0.1544 - val_accuracy: 0.8991\n",
            "Epoch 8/20\n",
            " - 35s - loss: 0.1929 - accuracy: 0.9366 - val_loss: 0.1919 - val_accuracy: 0.9014\n",
            "Epoch 9/20\n",
            " - 35s - loss: 0.1591 - accuracy: 0.9483 - val_loss: 0.1459 - val_accuracy: 0.9041\n",
            "Epoch 10/20\n",
            " - 35s - loss: 0.1369 - accuracy: 0.9555 - val_loss: 0.4954 - val_accuracy: 0.9045\n",
            "Epoch 11/20\n",
            " - 35s - loss: 0.0941 - accuracy: 0.9703 - val_loss: 0.1215 - val_accuracy: 0.9345\n",
            "Epoch 12/20\n",
            " - 35s - loss: 0.0704 - accuracy: 0.9785 - val_loss: 0.1107 - val_accuracy: 0.9324\n",
            "Epoch 13/20\n",
            " - 35s - loss: 0.0622 - accuracy: 0.9808 - val_loss: 0.2377 - val_accuracy: 0.9354\n",
            "Epoch 14/20\n",
            " - 35s - loss: 0.0565 - accuracy: 0.9822 - val_loss: 0.1424 - val_accuracy: 0.9349\n",
            "Epoch 15/20\n",
            " - 35s - loss: 0.0544 - accuracy: 0.9834 - val_loss: 0.1689 - val_accuracy: 0.9349\n",
            "Epoch 16/20\n",
            " - 35s - loss: 0.0488 - accuracy: 0.9843 - val_loss: 0.4112 - val_accuracy: 0.9404\n",
            "Epoch 17/20\n",
            " - 35s - loss: 0.0496 - accuracy: 0.9842 - val_loss: 0.3060 - val_accuracy: 0.9376\n",
            "Epoch 18/20\n",
            " - 35s - loss: 0.0460 - accuracy: 0.9857 - val_loss: 0.4399 - val_accuracy: 0.9406\n",
            "Epoch 19/20\n",
            " - 35s - loss: 0.0465 - accuracy: 0.9854 - val_loss: 0.1497 - val_accuracy: 0.9406\n",
            "Epoch 20/20\n",
            " - 35s - loss: 0.0442 - accuracy: 0.9861 - val_loss: 0.2115 - val_accuracy: 0.9408\n"
          ],
          "name": "stdout"
        }
      ]
    },
    {
      "cell_type": "code",
      "metadata": {
        "colab": {
          "base_uri": "https://localhost:8080/"
        },
        "id": "nc2ZYrBDFp8s",
        "outputId": "97eb1ac7-864c-4359-afa4-d464caf9aaf1"
      },
      "source": [
        "#evaluate model0\n",
        "preds = model0.evaluate(X_test, Y_test)\n",
        "print (\"Loss = \" + str(preds[0]))\n",
        "print (\"Test Accuracy = \" + str(preds[1]))"
      ],
      "execution_count": null,
      "outputs": [
        {
          "output_type": "stream",
          "text": [
            "12630/12630 [==============================] - 6s 447us/step\n",
            "Loss = 0.6327781471107464\n",
            "Test Accuracy = 0.8625494837760925\n"
          ],
          "name": "stdout"
        }
      ]
    },
    {
      "cell_type": "code",
      "metadata": {
        "colab": {
          "base_uri": "https://localhost:8080/",
          "height": 229
        },
        "id": "znaLo9hXFxK9",
        "outputId": "09df7e70-32f8-44e8-ed67-a1dec226dbf8"
      },
      "source": [
        "#plot accuracy for modle0\n",
        "acc = history.history['accuracy']\n",
        "val_acc = history.history['val_accuracy']\n",
        "loss = history.history['loss']\n",
        "val_loss = history.history['val_loss']\n",
        "epochs = range(len(acc))\n",
        "plt.plot(epochs, acc, 'bo', label=\"Trainingsgenauigkeit\")\n",
        "plt.plot(epochs, val_acc, 'b', label=\"Validationsgenauigkeit\")\n",
        "plt.title('Training und validation Genauigkeit')\n",
        "plt.legend(loc=\"lower right\")\n",
        "plt.figure()\n",
        "plt.plot(epochs, loss, 'bo', label=\"Trainging-Loss \")\n",
        "plt.plot(epochs, val_loss, 'b', label=\"Validation-Loss \")\n",
        "plt.title('Training und validation loss')\n",
        "plt.legend(loc=\"upper right\")\n",
        "plt.show()"
      ],
      "execution_count": null,
      "outputs": [
        {
          "output_type": "error",
          "ename": "NameError",
          "evalue": "ignored",
          "traceback": [
            "\u001b[0;31m---------------------------------------------------------------------------\u001b[0m",
            "\u001b[0;31mNameError\u001b[0m                                 Traceback (most recent call last)",
            "\u001b[0;32m<ipython-input-24-c0c09e4821ad>\u001b[0m in \u001b[0;36m<module>\u001b[0;34m()\u001b[0m\n\u001b[1;32m      1\u001b[0m \u001b[0;31m#plot accuracy for modle0\u001b[0m\u001b[0;34m\u001b[0m\u001b[0;34m\u001b[0m\u001b[0;34m\u001b[0m\u001b[0m\n\u001b[0;32m----> 2\u001b[0;31m \u001b[0macc\u001b[0m \u001b[0;34m=\u001b[0m \u001b[0mhistory\u001b[0m\u001b[0;34m.\u001b[0m\u001b[0mhistory\u001b[0m\u001b[0;34m[\u001b[0m\u001b[0;34m'accuracy'\u001b[0m\u001b[0;34m]\u001b[0m\u001b[0;34m\u001b[0m\u001b[0;34m\u001b[0m\u001b[0m\n\u001b[0m\u001b[1;32m      3\u001b[0m \u001b[0mval_acc\u001b[0m \u001b[0;34m=\u001b[0m \u001b[0mhistory\u001b[0m\u001b[0;34m.\u001b[0m\u001b[0mhistory\u001b[0m\u001b[0;34m[\u001b[0m\u001b[0;34m'val_accuracy'\u001b[0m\u001b[0;34m]\u001b[0m\u001b[0;34m\u001b[0m\u001b[0;34m\u001b[0m\u001b[0m\n\u001b[1;32m      4\u001b[0m \u001b[0mloss\u001b[0m \u001b[0;34m=\u001b[0m \u001b[0mhistory\u001b[0m\u001b[0;34m.\u001b[0m\u001b[0mhistory\u001b[0m\u001b[0;34m[\u001b[0m\u001b[0;34m'loss'\u001b[0m\u001b[0;34m]\u001b[0m\u001b[0;34m\u001b[0m\u001b[0;34m\u001b[0m\u001b[0m\n\u001b[1;32m      5\u001b[0m \u001b[0mval_loss\u001b[0m \u001b[0;34m=\u001b[0m \u001b[0mhistory\u001b[0m\u001b[0;34m.\u001b[0m\u001b[0mhistory\u001b[0m\u001b[0;34m[\u001b[0m\u001b[0;34m'val_loss'\u001b[0m\u001b[0;34m]\u001b[0m\u001b[0;34m\u001b[0m\u001b[0;34m\u001b[0m\u001b[0m\n",
            "\u001b[0;31mNameError\u001b[0m: name 'history' is not defined"
          ]
        }
      ]
    },
    {
      "cell_type": "markdown",
      "metadata": {
        "id": "X_P9C5F2eVhb"
      },
      "source": [
        "Run the following cell to train your model on 2 epochs with a batch size of 32. On a CPU it should take you around 5min per epoch. "
      ]
    },
    {
      "cell_type": "markdown",
      "metadata": {
        "id": "9EnOzKP2G21E"
      },
      "source": [
        "##Train model with adam optimization\n"
      ]
    },
    {
      "cell_type": "code",
      "metadata": {
        "colab": {
          "base_uri": "https://localhost:8080/"
        },
        "id": "gXA3PymVJncN",
        "outputId": "98535cff-1af1-412d-8323-82814b9b39c4"
      },
      "source": [
        "#create model\n",
        "model = ResNet50(input_shape = (64, 64, 1), classes = 43)\n",
        "\n",
        "#compile model\n",
        "model.compile(optimizer='adam', loss='categorical_crossentropy', metrics=['accuracy'])\n",
        "\n",
        "#train model\n",
        "#balanced_history = model.fit(X_train, Y_train, epochs = 20, batch_size = 64,validation_data=(X_valid,Y_valid))  #this yield also good result\n",
        "balanced_history = model.fit_generator(train_generator, validation_data=validation_generator,steps_per_epoch=int(len(X_train) / 128), \n",
        "                             validation_steps=len(X_valid) / 128, epochs = 20)"
      ],
      "execution_count": null,
      "outputs": [
        {
          "output_type": "stream",
          "text": [
            "WARNING:tensorflow:From /tensorflow-1.15.2/python3.7/tensorflow_core/python/ops/resource_variable_ops.py:1630: calling BaseResourceVariable.__init__ (from tensorflow.python.ops.resource_variable_ops) with constraint is deprecated and will be removed in a future version.\n",
            "Instructions for updating:\n",
            "If using Keras pass *_constraint arguments to layers.\n",
            "WARNING:tensorflow:From /tensorflow-1.15.2/python3.7/keras/backend/tensorflow_backend.py:4070: The name tf.nn.max_pool is deprecated. Please use tf.nn.max_pool2d instead.\n",
            "\n",
            "WARNING:tensorflow:From /tensorflow-1.15.2/python3.7/keras/backend/tensorflow_backend.py:4074: The name tf.nn.avg_pool is deprecated. Please use tf.nn.avg_pool2d instead.\n",
            "\n",
            "WARNING:tensorflow:From /tensorflow-1.15.2/python3.7/keras/backend/tensorflow_backend.py:422: The name tf.global_variables is deprecated. Please use tf.compat.v1.global_variables instead.\n",
            "\n",
            "Epoch 1/20\n",
            "271/271 [==============================] - 48s 176ms/step - loss: 2.3051 - accuracy: 0.3917 - val_loss: 1.0033 - val_accuracy: 0.6778\n",
            "Epoch 2/20\n",
            "271/271 [==============================] - 36s 134ms/step - loss: 0.8205 - accuracy: 0.7365 - val_loss: 0.6401 - val_accuracy: 0.8370\n",
            "Epoch 3/20\n",
            "271/271 [==============================] - 37s 137ms/step - loss: 0.4335 - accuracy: 0.8624 - val_loss: 0.2351 - val_accuracy: 0.9120\n",
            "Epoch 4/20\n",
            "271/271 [==============================] - 37s 138ms/step - loss: 0.2953 - accuracy: 0.9068 - val_loss: 0.2958 - val_accuracy: 0.9150\n",
            "Epoch 5/20\n",
            "271/271 [==============================] - 38s 139ms/step - loss: 0.1953 - accuracy: 0.9378 - val_loss: 0.1229 - val_accuracy: 0.9540\n",
            "Epoch 6/20\n",
            "271/271 [==============================] - 38s 140ms/step - loss: 0.1729 - accuracy: 0.9437 - val_loss: 0.0814 - val_accuracy: 0.9447\n",
            "Epoch 7/20\n",
            "271/271 [==============================] - 38s 140ms/step - loss: 0.1300 - accuracy: 0.9585 - val_loss: 0.1850 - val_accuracy: 0.9399\n",
            "Epoch 8/20\n",
            "271/271 [==============================] - 38s 141ms/step - loss: 0.1088 - accuracy: 0.9668 - val_loss: 0.1258 - val_accuracy: 0.9549\n",
            "Epoch 9/20\n",
            "271/271 [==============================] - 38s 141ms/step - loss: 0.0995 - accuracy: 0.9676 - val_loss: 0.0233 - val_accuracy: 0.9655\n",
            "Epoch 10/20\n",
            "271/271 [==============================] - 38s 141ms/step - loss: 0.1264 - accuracy: 0.9598 - val_loss: 0.0796 - val_accuracy: 0.9655\n",
            "Epoch 11/20\n",
            "271/271 [==============================] - 38s 141ms/step - loss: 0.0899 - accuracy: 0.9709 - val_loss: 0.2347 - val_accuracy: 0.9612\n",
            "Epoch 12/20\n",
            "271/271 [==============================] - 38s 140ms/step - loss: 0.2384 - accuracy: 0.9320 - val_loss: 0.2801 - val_accuracy: 0.9642\n",
            "Epoch 13/20\n",
            "271/271 [==============================] - 38s 141ms/step - loss: 0.0930 - accuracy: 0.9701 - val_loss: 0.0936 - val_accuracy: 0.9680\n",
            "Epoch 14/20\n",
            "271/271 [==============================] - 38s 140ms/step - loss: 0.0662 - accuracy: 0.9791 - val_loss: 0.1036 - val_accuracy: 0.9728\n",
            "Epoch 15/20\n",
            "271/271 [==============================] - 38s 141ms/step - loss: 0.0586 - accuracy: 0.9812 - val_loss: 0.0894 - val_accuracy: 0.9726\n",
            "Epoch 16/20\n",
            "271/271 [==============================] - 38s 141ms/step - loss: 0.0530 - accuracy: 0.9835 - val_loss: 0.1166 - val_accuracy: 0.9778\n",
            "Epoch 17/20\n",
            "271/271 [==============================] - 38s 141ms/step - loss: 0.0466 - accuracy: 0.9841 - val_loss: 0.1768 - val_accuracy: 0.9771\n",
            "Epoch 18/20\n",
            "271/271 [==============================] - 38s 140ms/step - loss: 0.0907 - accuracy: 0.9731 - val_loss: 0.1503 - val_accuracy: 0.9730\n",
            "Epoch 19/20\n",
            "271/271 [==============================] - 38s 141ms/step - loss: 0.1396 - accuracy: 0.9609 - val_loss: 0.1681 - val_accuracy: 0.9755\n",
            "Epoch 20/20\n",
            "271/271 [==============================] - 38s 141ms/step - loss: 0.0673 - accuracy: 0.9792 - val_loss: 0.0184 - val_accuracy: 0.9760\n"
          ],
          "name": "stdout"
        }
      ]
    },
    {
      "cell_type": "code",
      "metadata": {
        "colab": {
          "base_uri": "https://localhost:8080/"
        },
        "id": "jDGT0RpSyRDl",
        "outputId": "55743cfc-2626-4168-f7cd-38b2c8f078e4"
      },
      "source": [
        "#evaluate model\n",
        "preds = model.evaluate(X_test, Y_test)\n",
        "print (\"Loss = \" + str(preds[0]))\n",
        "print (\"Test Accuracy = \" + str(preds[1]))"
      ],
      "execution_count": null,
      "outputs": [
        {
          "output_type": "stream",
          "text": [
            "12630/12630 [==============================] - 6s 472us/step\n",
            "Loss = 0.30960331331740887\n",
            "Test Accuracy = 0.927315890789032\n"
          ],
          "name": "stdout"
        }
      ]
    },
    {
      "cell_type": "code",
      "metadata": {
        "colab": {
          "base_uri": "https://localhost:8080/",
          "height": 545
        },
        "id": "yG0OHxUl_WFN",
        "outputId": "dedd3113-05e2-48e7-c5f1-3320a92cf9d0"
      },
      "source": [
        "#plot accuracy for modle0\n",
        "acc = balanced_history.history['accuracy']\n",
        "val_acc = balanced_history.history['val_accuracy']\n",
        "loss = balanced_history.history['loss']\n",
        "val_loss = balanced_history.history['val_loss']\n",
        "epochs = range(len(acc))\n",
        "plt.plot(epochs, acc, 'bo', label=\"Trainingsgenauigkeit\")\n",
        "plt.plot(epochs, val_acc, 'b', label=\"Validationsgenauigkeit\")\n",
        "plt.title('Training und validation Genauigkeit')\n",
        "plt.legend(loc=\"lower right\")\n",
        "plt.figure()\n",
        "plt.plot(epochs, loss, 'bo', label=\"Trainging-Loss \")\n",
        "plt.plot(epochs, val_loss, 'b', label=\"Validation-Loss \")\n",
        "plt.title('Training und validation loss')\n",
        "plt.legend(loc=\"upper right\")\n",
        "plt.show()"
      ],
      "execution_count": null,
      "outputs": [
        {
          "output_type": "display_data",
          "data": {
            "image/png": "[encoded data removed]",
            "text/plain": [
              "<Figure size 432x288 with 1 Axes>"
            ]
          },
          "metadata": {
            "tags": [],
            "needs_background": "light"
          }
        },
        {
          "output_type": "display_data",
          "data": {
            "image/png": "[encoded data removed]",
            "text/plain": [
              "<Figure size 432x288 with 1 Axes>"
            ]
          },
          "metadata": {
            "tags": [],
            "needs_background": "light"
          }
        }
      ]
    },
    {
      "cell_type": "code",
      "metadata": {
        "id": "aP9pqJzzw7nw"
      },
      "source": [
        "y_pred = model.predict(X_test)"
      ],
      "execution_count": null,
      "outputs": []
    },
    {
      "cell_type": "code",
      "metadata": {
        "id": "j0UVlJgUxDCc"
      },
      "source": [
        "y_pred_balanced = np.argmax(y_pred, axis=1)"
      ],
      "execution_count": null,
      "outputs": []
    },
    {
      "cell_type": "code",
      "metadata": {
        "id": "KtVjgKDaxqSk"
      },
      "source": [
        "y_test = np.argmax(Y_test, axis=1)"
      ],
      "execution_count": null,
      "outputs": []
    },
    {
      "cell_type": "code",
      "metadata": {
        "colab": {
          "base_uri": "https://localhost:8080/"
        },
        "id": "vcUEJHjsx_NU",
        "outputId": "93a035be-b3d9-464b-df74-424168ebc083"
      },
      "source": [
        "y_test.shape"
      ],
      "execution_count": null,
      "outputs": [
        {
          "output_type": "execute_result",
          "data": {
            "text/plain": [
              "(12630,)"
            ]
          },
          "metadata": {
            "tags": []
          },
          "execution_count": 30
        }
      ]
    },
    {
      "cell_type": "code",
      "metadata": {
        "id": "2akjzVIvxShl"
      },
      "source": [
        "from sklearn.metrics import confusion_matrix\n",
        "\n",
        "balanced_cm = confusion_matrix(y_test, y_pred_balanced)"
      ],
      "execution_count": null,
      "outputs": []
    },
    {
      "cell_type": "code",
      "metadata": {
        "colab": {
          "base_uri": "https://localhost:8080/"
        },
        "id": "rbhwknhiyC_b",
        "outputId": "95ef8aa8-d2db-4e76-f676-87ff2a4a04d3"
      },
      "source": [
        "balanced_cm.shape"
      ],
      "execution_count": null,
      "outputs": [
        {
          "output_type": "execute_result",
          "data": {
            "text/plain": [
              "(43, 43)"
            ]
          },
          "metadata": {
            "tags": []
          },
          "execution_count": 32
        }
      ]
    },
    {
      "cell_type": "code",
      "metadata": {
        "colab": {
          "base_uri": "https://localhost:8080/",
          "height": 817
        },
        "id": "vZ_ThzxmyILM",
        "outputId": "b60c4489-a8ae-4674-daa1-96367b13b548"
      },
      "source": [
        "import seaborn as sn\n",
        "import matplotlib.pyplot as plt\n",
        "\n",
        "plt.figure(figsize=(20,14))\n",
        "\n",
        "sn.set(font_scale=1.4) # for label size\n",
        "sn.heatmap(balanced_cm, annot=True) # font size\n",
        "\n",
        "plt.show()"
      ],
      "execution_count": null,
      "outputs": [
        {
          "output_type": "display_data",
          "data": {
            "image/png": "[encoded data removed]",
            "text/plain": [
              "<Figure size 1440x1008 with 2 Axes>"
            ]
          },
          "metadata": {
            "tags": [],
            "needs_background": "light"
          }
        }
      ]
    },
    {
      "cell_type": "code",
      "metadata": {
        "id": "WwgAn28ULMph"
      },
      "source": [
        "# from sklearn.metrics import confusion_matrix, ConfusionMatrixDisplay, accuracy_score, balanced_accuracy_score\n",
        "\n",
        "import pandas as pd\n",
        "\n",
        "def get_training_metrics(history):\n",
        "  \n",
        "  # This is needed depending on if you used the pretrained model or you trained it yourself\n",
        "  if not isinstance(history, pd.core.frame.DataFrame):\n",
        "    history = history.history\n",
        "  \n",
        "  acc = history['sparse_categorical_accuracy']\n",
        "  val_acc = history['val_sparse_categorical_accuracy']\n",
        "\n",
        "  loss = history['loss']\n",
        "  val_loss = history['val_loss']\n",
        "\n",
        "  return acc, val_acc, loss, val_loss\n",
        "\n",
        "def plot_train_eval(history):\n",
        "  acc, val_acc, loss, val_loss = get_training_metrics(history)\n",
        "\n",
        "  acc_plot = pd.DataFrame({\"training accuracy\":acc, \"evaluation accuracy\":val_acc})\n",
        "  acc_plot = sns.lineplot(data=acc_plot)\n",
        "  acc_plot.set_title('training vs evaluation accuracy')\n",
        "  acc_plot.set_xlabel('epoch')\n",
        "  acc_plot.set_ylabel('sparse_categorical_accuracy')\n",
        "  plt.show()\n",
        "\n",
        "  print(\"\")\n",
        "\n",
        "  loss_plot = pd.DataFrame({\"training loss\":loss, \"evaluation loss\":val_loss})\n",
        "  loss_plot = sns.lineplot(data=loss_plot)\n",
        "  loss_plot.set_title('training vs evaluation loss')\n",
        "  loss_plot.set_xlabel('epoch')\n",
        "  loss_plot.set_ylabel('loss')\n",
        "  plt.show()\n"
      ],
      "execution_count": null,
      "outputs": []
    },
    {
      "cell_type": "code",
      "metadata": {
        "id": "qNAegKu7QiJ2",
        "colab": {
          "base_uri": "https://localhost:8080/",
          "height": 303
        },
        "outputId": "65aab939-734b-446f-b051-a383ba26a42d"
      },
      "source": [
        "plot_train_eval(balanced_history)"
      ],
      "execution_count": null,
      "outputs": [
        {
          "output_type": "error",
          "ename": "KeyError",
          "evalue": "ignored",
          "traceback": [
            "\u001b[0;31m---------------------------------------------------------------------------\u001b[0m",
            "\u001b[0;31mKeyError\u001b[0m                                  Traceback (most recent call last)",
            "\u001b[0;32m<ipython-input-35-5a88ae3f31b6>\u001b[0m in \u001b[0;36m<module>\u001b[0;34m()\u001b[0m\n\u001b[0;32m----> 1\u001b[0;31m \u001b[0mplot_train_eval\u001b[0m\u001b[0;34m(\u001b[0m\u001b[0mbalanced_history\u001b[0m\u001b[0;34m)\u001b[0m\u001b[0;34m\u001b[0m\u001b[0;34m\u001b[0m\u001b[0m\n\u001b[0m",
            "\u001b[0;32m<ipython-input-34-b66b637a0120>\u001b[0m in \u001b[0;36mplot_train_eval\u001b[0;34m(history)\u001b[0m\n\u001b[1;32m     18\u001b[0m \u001b[0;34m\u001b[0m\u001b[0m\n\u001b[1;32m     19\u001b[0m \u001b[0;32mdef\u001b[0m \u001b[0mplot_train_eval\u001b[0m\u001b[0;34m(\u001b[0m\u001b[0mhistory\u001b[0m\u001b[0;34m)\u001b[0m\u001b[0;34m:\u001b[0m\u001b[0;34m\u001b[0m\u001b[0;34m\u001b[0m\u001b[0m\n\u001b[0;32m---> 20\u001b[0;31m   \u001b[0macc\u001b[0m\u001b[0;34m,\u001b[0m \u001b[0mval_acc\u001b[0m\u001b[0;34m,\u001b[0m \u001b[0mloss\u001b[0m\u001b[0;34m,\u001b[0m \u001b[0mval_loss\u001b[0m \u001b[0;34m=\u001b[0m \u001b[0mget_training_metrics\u001b[0m\u001b[0;34m(\u001b[0m\u001b[0mhistory\u001b[0m\u001b[0;34m)\u001b[0m\u001b[0;34m\u001b[0m\u001b[0;34m\u001b[0m\u001b[0m\n\u001b[0m\u001b[1;32m     21\u001b[0m \u001b[0;34m\u001b[0m\u001b[0m\n\u001b[1;32m     22\u001b[0m   \u001b[0macc_plot\u001b[0m \u001b[0;34m=\u001b[0m \u001b[0mpd\u001b[0m\u001b[0;34m.\u001b[0m\u001b[0mDataFrame\u001b[0m\u001b[0;34m(\u001b[0m\u001b[0;34m{\u001b[0m\u001b[0;34m\"training accuracy\"\u001b[0m\u001b[0;34m:\u001b[0m\u001b[0macc\u001b[0m\u001b[0;34m,\u001b[0m \u001b[0;34m\"evaluation accuracy\"\u001b[0m\u001b[0;34m:\u001b[0m\u001b[0mval_acc\u001b[0m\u001b[0;34m}\u001b[0m\u001b[0;34m)\u001b[0m\u001b[0;34m\u001b[0m\u001b[0;34m\u001b[0m\u001b[0m\n",
            "\u001b[0;32m<ipython-input-34-b66b637a0120>\u001b[0m in \u001b[0;36mget_training_metrics\u001b[0;34m(history)\u001b[0m\n\u001b[1;32m      9\u001b[0m     \u001b[0mhistory\u001b[0m \u001b[0;34m=\u001b[0m \u001b[0mhistory\u001b[0m\u001b[0;34m.\u001b[0m\u001b[0mhistory\u001b[0m\u001b[0;34m\u001b[0m\u001b[0;34m\u001b[0m\u001b[0m\n\u001b[1;32m     10\u001b[0m \u001b[0;34m\u001b[0m\u001b[0m\n\u001b[0;32m---> 11\u001b[0;31m   \u001b[0macc\u001b[0m \u001b[0;34m=\u001b[0m \u001b[0mhistory\u001b[0m\u001b[0;34m[\u001b[0m\u001b[0;34m'sparse_categorical_accuracy'\u001b[0m\u001b[0;34m]\u001b[0m\u001b[0;34m\u001b[0m\u001b[0;34m\u001b[0m\u001b[0m\n\u001b[0m\u001b[1;32m     12\u001b[0m   \u001b[0mval_acc\u001b[0m \u001b[0;34m=\u001b[0m \u001b[0mhistory\u001b[0m\u001b[0;34m[\u001b[0m\u001b[0;34m'val_sparse_categorical_accuracy'\u001b[0m\u001b[0;34m]\u001b[0m\u001b[0;34m\u001b[0m\u001b[0;34m\u001b[0m\u001b[0m\n\u001b[1;32m     13\u001b[0m \u001b[0;34m\u001b[0m\u001b[0m\n",
            "\u001b[0;31mKeyError\u001b[0m: 'sparse_categorical_accuracy'"
          ]
        }
      ]
    },
    {
      "cell_type": "code",
      "metadata": {
        "id": "Hkh4HhaCQ6zz"
      },
      "source": [
        "balanced_history."
      ],
      "execution_count": null,
      "outputs": []
    },
    {
      "cell_type": "code",
      "metadata": {
        "scrolled": false,
        "id": "P-tsB8RNeVhb"
      },
      "source": [
        "# import os\n",
        "\n",
        "# checkpoint_path = '/content/drive/MyDrive/Colab Notebooks/Datasets/ResNet50'\n",
        "# checkpoint_dir = os.path.dirname(checkpoint_path)\n",
        "\n",
        "# # Create a callback that saves the model's weights\n",
        "# cp_callback = tf.keras.callbacks.ModelCheckpoint(filepath=checkpoint_path,\n",
        "#                                                  save_weights_only=True,\n",
        "#                                                  verbose=1)\n",
        "\n",
        "# model.fit(X_train, Y_train, epochs = 2,  batch_size = 64,callbacks=[cp_callback])"
      ],
      "execution_count": null,
      "outputs": []
    },
    {
      "cell_type": "code",
      "metadata": {
        "id": "FmwX4d4P5kKm"
      },
      "source": [
        "model.save('/content/drive/MyDrive/Colab Notebooks/Datasets/ResNet50')\n"
      ],
      "execution_count": null,
      "outputs": []
    },
    {
      "cell_type": "code",
      "metadata": {
        "id": "YyM4wVbS5dVu"
      },
      "source": [
        "model.load_weights('/content/drive/MyDrive/Colab Notebooks/Datasets/ResNet50')"
      ],
      "execution_count": null,
      "outputs": []
    },
    {
      "cell_type": "code",
      "metadata": {
        "id": "XEaInaWuymeK"
      },
      "source": [
        "model.save_weights('/content/drive/MyDrive/Colab Notebooks/Datasets/ResNet50_weights')"
      ],
      "execution_count": null,
      "outputs": []
    },
    {
      "cell_type": "markdown",
      "metadata": {
        "id": "-D89RCjWeVhc"
      },
      "source": [
        "**Expected Output**:\n",
        "\n",
        "<table>\n",
        "    <tr>\n",
        "        <td>\n",
        "            ** Epoch 1/2**\n",
        "        </td>\n",
        "        <td>\n",
        "           loss: between 1 and 5, acc: between 0.2 and 0.5, although your results can be different from ours.\n",
        "        </td>\n",
        "    </tr>\n",
        "    <tr>\n",
        "        <td>\n",
        "            ** Epoch 2/2**\n",
        "        </td>\n",
        "        <td>\n",
        "           loss: between 1 and 5, acc: between 0.2 and 0.5, you should see your loss decreasing and the accuracy increasing.\n",
        "        </td>\n",
        "    </tr>\n",
        "\n",
        "</table>"
      ]
    },
    {
      "cell_type": "markdown",
      "metadata": {
        "id": "G8Idz27GeVhc"
      },
      "source": [
        "Let's see how this model (trained on only two epochs) performs on the test set."
      ]
    },
    {
      "cell_type": "code",
      "metadata": {
        "id": "Istsrt8CdU88"
      },
      "source": [
        "from tensorflow import keras\n",
        "model1 = keras.models.load_model(\"/content/drive/MyDrive/Colab Notebooks/Datasets/ResNet50\")"
      ],
      "execution_count": null,
      "outputs": []
    },
    {
      "cell_type": "code",
      "metadata": {
        "id": "vbamUWKJ3Zl-"
      },
      "source": [
        "preds = model1.predict(X_test_preprocessed,batch_size=64)"
      ],
      "execution_count": null,
      "outputs": []
    },
    {
      "cell_type": "code",
      "metadata": {
        "id": "aEVVwxm3-C5b"
      },
      "source": [
        "preds1 = model1.predict_function()"
      ],
      "execution_count": null,
      "outputs": []
    },
    {
      "cell_type": "code",
      "metadata": {
        "id": "xq2jtdkZ7u6t"
      },
      "source": [
        "from sklearn.metrics import confusion_matrix\n",
        "cm = confusion_matrix()\n"
      ],
      "execution_count": null,
      "outputs": []
    },
    {
      "cell_type": "code",
      "metadata": {
        "scrolled": true,
        "id": "pH3aEjKfeVhc"
      },
      "source": [
        "preds = model.evaluate(X_test, Y_test)\n",
        "print (\"Loss = \" + str(preds[0]))\n",
        "print (\"Test Accuracy = \" + str(preds[1]))"
      ],
      "execution_count": null,
      "outputs": []
    },
    {
      "cell_type": "code",
      "metadata": {
        "id": "J2Gdk02J-f-j"
      },
      "source": [
        "def y_predict(X_data, BATCH_SIZE=64):\n",
        "  num_examples = len(X_data)\n",
        "  y_pred = np.zeros(num_examples, dtype=np.int32)\n",
        "  sess = tf.get_default_session()\n",
        "  for offset in range(0, num_examples, BATCH_SIZE):\n",
        "    batch_x = X_data[offset:offset+BATCH_SIZE]\n",
        "    y_pred[offset:offset+BATCH_SIZE] = sess.run(tf.argmax(self.logits, 1), \n",
        "                                                feed_dict={x:batch_x, keep_prob:1, keep_prob_conv:1})\n",
        "  return y_pred"
      ],
      "execution_count": null,
      "outputs": []
    },
    {
      "cell_type": "code",
      "metadata": {
        "id": "9UhpA2rGqg9F"
      },
      "source": [
        "with tf.Session() as sess:\n",
        "    # LeNet_Model.saver.restore(sess,os.path.join('/content/drive/MyDrive/Colab Notebooks/Datasets/LeNet', \"LeNet\"))\n",
        "    y_pred = y_predict(X_test_preprocessed)\n",
        "    test_accuracy = sum(Y_test == y_pred)/len(Y_test)\n",
        "    print(\"Test Accuracy = {:.1f}%\".format(test_accuracy*100))"
      ],
      "execution_count": null,
      "outputs": []
    },
    {
      "cell_type": "code",
      "metadata": {
        "id": "tvTv5Sj8gcYj"
      },
      "source": [
        "from sklearn.metrics import confusion_matrix\n",
        "from sklearn.model_selection import cross_val_predict\n",
        "# y_test_pred = cross_val_predict(fuck,X_test,Y_test)\n",
        "confusion = confusion_matrix(Y_test,preds)"
      ],
      "execution_count": null,
      "outputs": []
    },
    {
      "cell_type": "code",
      "metadata": {
        "id": "eyJTK7ZZir40"
      },
      "source": [
        "preds"
      ],
      "execution_count": null,
      "outputs": []
    },
    {
      "cell_type": "markdown",
      "metadata": {
        "id": "MYJDpxVMeVhc"
      },
      "source": [
        "**Expected Output**:\n",
        "\n",
        "<table>\n",
        "    <tr>\n",
        "        <td>\n",
        "            **Test Accuracy**\n",
        "        </td>\n",
        "        <td>\n",
        "           between 0.16 and 0.25\n",
        "        </td>\n",
        "    </tr>\n",
        "\n",
        "</table>"
      ]
    },
    {
      "cell_type": "markdown",
      "metadata": {
        "id": "WGVFki0ZeVhc"
      },
      "source": [
        "For the purpose of this assignment, we've asked you to train the model for just two epochs. You can see that it achieves poor performances. Please go ahead and submit your assignment; to check correctness, the online grader will run your code only for a small number of epochs as well."
      ]
    },
    {
      "cell_type": "markdown",
      "metadata": {
        "id": "HF2Eq_-1eVhd"
      },
      "source": [
        "After you have finished this official (graded) part of this assignment, you can also optionally train the ResNet for more iterations, if you want. We get a lot better performance when we train for ~20 epochs, but this will take more than an hour when training on a CPU. \n",
        "\n",
        "Using a GPU, we've trained our own ResNet50 model's weights on the SIGNS dataset. You can load and run our trained model on the test set in the cells below. It may take ≈1min to load the model."
      ]
    },
    {
      "cell_type": "code",
      "metadata": {
        "collapsed": true,
        "id": "s6YB0QC0eVhd"
      },
      "source": [
        "model = load_model('ResNet50.h5') "
      ],
      "execution_count": null,
      "outputs": []
    },
    {
      "cell_type": "code",
      "metadata": {
        "collapsed": true,
        "scrolled": true,
        "id": "CtzGbquGeVhd"
      },
      "source": [
        "preds = model.evaluate(X_valid_preprocessed, Y_train)\n",
        "print (\"Loss = \" + str(preds[0]))\n",
        "print (\"Test Accuracy = \" + str(preds[1]))"
      ],
      "execution_count": null,
      "outputs": []
    },
    {
      "cell_type": "markdown",
      "metadata": {
        "id": "IVsx3dpaeVhd"
      },
      "source": [
        "ResNet50 is a powerful model for image classification when it is trained for an adequate number of iterations. We hope you can use what you've learnt and apply it to your own classification problem to perform state-of-the-art accuracy.\n",
        "\n",
        "Congratulations on finishing this assignment! You've now implemented a state-of-the-art image classification system! "
      ]
    },
    {
      "cell_type": "markdown",
      "metadata": {
        "id": "z3dBzB7LeVhe"
      },
      "source": [
        "## 4 - Test on your own image (Optional/Ungraded)"
      ]
    },
    {
      "cell_type": "markdown",
      "metadata": {
        "id": "RERUYoaBeVhe"
      },
      "source": [
        "If you wish, you can also take a picture of your own hand and see the output of the model. To do this:\n",
        "    1. Click on \"File\" in the upper bar of this notebook, then click \"Open\" to go on your Coursera Hub.\n",
        "    2. Add your image to this Jupyter Notebook's directory, in the \"images\" folder\n",
        "    3. Write your image's name in the following code\n",
        "    4. Run the code and check if the algorithm is right! "
      ]
    },
    {
      "cell_type": "code",
      "metadata": {
        "collapsed": true,
        "id": "LOFPx8J2eVhe"
      },
      "source": [
        "img_path = 'images/my_image.jpg'\n",
        "img = image.load_img(img_path, target_size=(64, 64))\n",
        "x = image.img_to_array(img)\n",
        "x = np.expand_dims(x, axis=0)\n",
        "x = x/255.0\n",
        "print('Input image shape:', x.shape)\n",
        "my_image = scipy.misc.imread(img_path)\n",
        "imshow(my_image)\n",
        "print(\"class prediction vector [p(0), p(1), p(2), p(3), p(4), p(5)] = \")\n",
        "print(model.predict(x))"
      ],
      "execution_count": null,
      "outputs": []
    },
    {
      "cell_type": "markdown",
      "metadata": {
        "id": "3T6I37dteVhe"
      },
      "source": [
        "You can also print a summary of your model by running the following code."
      ]
    },
    {
      "cell_type": "code",
      "metadata": {
        "collapsed": true,
        "scrolled": true,
        "id": "m8XnnKqEeVhf"
      },
      "source": [
        "model.summary()"
      ],
      "execution_count": null,
      "outputs": []
    },
    {
      "cell_type": "markdown",
      "metadata": {
        "id": "hyqWK9I1eVhf"
      },
      "source": [
        "Finally, run the code below to visualize your ResNet50. You can also download a .png picture of your model by going to \"File -> Open...-> model.png\"."
      ]
    },
    {
      "cell_type": "code",
      "metadata": {
        "collapsed": true,
        "id": "9qTVXvfBeVhf"
      },
      "source": [
        "plot_model(model, to_file='model.png')\n",
        "SVG(model_to_dot(model).create(prog='dot', format='svg'))"
      ],
      "execution_count": null,
      "outputs": []
    },
    {
      "cell_type": "markdown",
      "metadata": {
        "id": "83v5hEHleVhf"
      },
      "source": [
        "## What you should remember\n",
        "- Very deep \"plain\" networks don't work in practice because they are hard to train due to vanishing gradients.  \n",
        "- The skip-connections help to address the Vanishing Gradient problem. They also make it easy for a ResNet block to learn an identity function. \n",
        "- There are two main types of blocks: The identity block and the convolutional block. \n",
        "- Very deep Residual Networks are built by stacking these blocks together."
      ]
    },
    {
      "cell_type": "markdown",
      "metadata": {
        "id": "xWvP7RW1eVhf"
      },
      "source": [
        "### References \n",
        "\n",
        "This notebook presents the ResNet algorithm due to He et al. (2015). The implementation here also took significant inspiration and follows the structure given in the GitHub repository of Francois Chollet: \n",
        "\n",
        "- Kaiming He, Xiangyu Zhang, Shaoqing Ren, Jian Sun - [Deep Residual Learning for Image Recognition (2015)](https://arxiv.org/abs/1512.03385)\n",
        "- Francois Chollet's GitHub repository: https://github.com/fchollet/deep-learning-models/blob/master/resnet50.py\n"
      ]
    },
    {
      "cell_type": "code",
      "metadata": {
        "collapsed": true,
        "id": "-ySWwYgzeVhg"
      },
      "source": [
        ""
      ],
      "execution_count": null,
      "outputs": []
    }
  ]
}