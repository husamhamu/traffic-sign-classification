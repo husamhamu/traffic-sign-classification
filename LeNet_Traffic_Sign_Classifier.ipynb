{
  "nbformat": 4,
  "nbformat_minor": 0,
  "metadata": {
    "anaconda-cloud": {},
    "kernelspec": {
      "display_name": "Python 3",
      "language": "python",
      "name": "python3"
    },
    "language_info": {
      "codemirror_mode": {
        "name": "ipython",
        "version": 3
      },
      "file_extension": ".py",
      "mimetype": "text/x-python",
      "name": "python",
      "nbconvert_exporter": "python",
      "pygments_lexer": "ipython3",
      "version": "3.6.6"
    },
    "colab": {
      "name": "LeNet-Traffic_Sign_Classifier.ipynb",
      "provenance": [],
      "toc_visible": true
    },
    "accelerator": "GPU"
  },
  "cells": [
    {
      "cell_type": "markdown",
      "metadata": {
        "id": "qiJ_7E1b6h-i"
      },
      "source": [
        "# Project: **German Traffic Sign Classification Using TensorFlow** \n",
        "**In this project, I used Python and TensorFlow to classify traffic signs.**\n",
        "\n",
        "**Dataset used: [German Traffic Sign Dataset](http://benchmark.ini.rub.de/?section=gtsrb&subsection=dataset).\n",
        "This dataset has more than 50,000 images of 43 classes.**\n",
        "\n",
        "**I was able to reach a +99% validation accuracy, and a 97.3% testing accuracy.**"
      ]
    },
    {
      "cell_type": "markdown",
      "metadata": {
        "id": "tX8xuoKK6h-o"
      },
      "source": [
        "## Pipeline architecture:\n",
        "- **Load The Data.**\n",
        "- **Dataset Summary & Exploration**\n",
        "- **Data Preprocessing**.\n",
        "    - Shuffling.\n",
        "    - Grayscaling.\n",
        "    - Local Histogram Equalization.\n",
        "    - Normalization.\n",
        "- **Design a Model Architecture.**\n",
        "    - LeNet-5.\n",
        "    - VGGNet.\n",
        "- **Model Training and Evaluation.**\n",
        "- **Testing the Model Using the Test Set.**\n",
        "- **Testing the Model on New Images.**\n",
        "\n",
        "I'll explain each step in details below."
      ]
    },
    {
      "cell_type": "markdown",
      "metadata": {
        "id": "WzJMmtZq6h-p"
      },
      "source": [
        "#### Environement:\n",
        "-  Ubuntu 16.04\n",
        "-  Anaconda 5.0.1\n",
        "-  Python 3.6.6\n",
        "-  TensorFlow 1.12.0 (GPU support)"
      ]
    },
    {
      "cell_type": "code",
      "metadata": {
        "colab": {
          "base_uri": "https://localhost:8080/",
          "height": 136
        },
        "id": "5sD2vS9j6h-p",
        "outputId": "07e1d9ae-4344-474f-f7fe-0d49023584fd"
      },
      "source": [
        "# Importing Python libraries\n",
        "import pickle\n",
        "import numpy as np\n",
        "import matplotlib.pyplot as plt\n",
        "import random\n",
        "import cv2\n",
        "import skimage.morphology as morp\n",
        "from skimage.filters import rank\n",
        "from sklearn.utils import shuffle\n",
        "import csv\n",
        "import os\n",
        "%tensorflow_version 1.15.0\n",
        "import tensorflow as tf\n",
        "from tensorflow.contrib.layers import flatten\n",
        "from sklearn.metrics import confusion_matrix\n",
        "\n",
        "# is it using the GPU?\n",
        "print(tf.test.gpu_device_name())\n",
        "\n",
        "# Show current TensorFlow version\n",
        "tf.__version__"
      ],
      "execution_count": null,
      "outputs": [
        {
          "output_type": "stream",
          "text": [
            "`%tensorflow_version` only switches the major version: 1.x or 2.x.\n",
            "You set: `1.15.0`. This will be interpreted as: `1.x`.\n",
            "\n",
            "\n",
            "TensorFlow 1.x selected.\n",
            "/device:GPU:0\n"
          ],
          "name": "stdout"
        },
        {
          "output_type": "execute_result",
          "data": {
            "application/vnd.google.colaboratory.intrinsic+json": {
              "type": "string"
            },
            "text/plain": [
              "'1.15.2'"
            ]
          },
          "metadata": {
            "tags": []
          },
          "execution_count": 1
        }
      ]
    },
    {
      "cell_type": "markdown",
      "metadata": {
        "id": "3gJ4LMmS6h-q"
      },
      "source": [
        "---\n",
        "## Step 1: Load The Data"
      ]
    },
    {
      "cell_type": "markdown",
      "metadata": {
        "id": "Acf6WqKI6h-q"
      },
      "source": [
        "Download the dataset from [here](https://d17h27t6h515a5.cloudfront.net/topher/2017/February/5898cd6f_traffic-signs-data/traffic-signs-data.zip). This is a pickled dataset in which we've already resized the images to 32x32.\n",
        "\n",
        "We already have three `.p` files of 32x32 resized images:\n",
        "- `train.p`: The training set.\n",
        "- `test.p`: The testing set.\n",
        "- `valid.p`: The validation set.\n",
        "\n",
        "We will use Python `pickle` to load the data."
      ]
    },
    {
      "cell_type": "code",
      "metadata": {
        "colab": {
          "base_uri": "https://localhost:8080/"
        },
        "id": "hO1Mt3Zi66iD",
        "outputId": "04495c7c-4f91-4605-8301-48e6b12efb9d"
      },
      "source": [
        "from google.colab import drive\n",
        "drive.mount('/content/drive')"
      ],
      "execution_count": null,
      "outputs": [
        {
          "output_type": "stream",
          "text": [
            "Mounted at /content/drive\n"
          ],
          "name": "stdout"
        }
      ]
    },
    {
      "cell_type": "code",
      "metadata": {
        "id": "Un6zAiNz6h-q"
      },
      "source": [
        "training_file = '/content/drive/MyDrive/Colab Notebooks/Datasets/train.p'\n",
        "validation_file='/content/drive/MyDrive/Colab Notebooks/Datasets/valid.p'\n",
        "testing_file = '/content/drive/MyDrive/Colab Notebooks/Datasets/test.p'\n",
        "\n",
        "with open(training_file, mode='rb') as f:\n",
        "    train = pickle.load(f)\n",
        "with open(validation_file, mode='rb') as f:\n",
        "    valid = pickle.load(f)\n",
        "with open(testing_file, mode='rb') as f:\n",
        "    test = pickle.load(f)"
      ],
      "execution_count": null,
      "outputs": []
    },
    {
      "cell_type": "code",
      "metadata": {
        "id": "1oHTgsYA6h-r"
      },
      "source": [
        "# Mapping ClassID to traffic sign names\n",
        "signs = []\n",
        "sign_file= '/content/drive/MyDrive/Colab Notebooks/Datasets/signnames.csv'\n",
        "with open(sign_file, 'r') as csvfile:\n",
        "    signnames = csv.reader(csvfile, delimiter=',')\n",
        "    next(signnames,None)\n",
        "    for row in signnames:\n",
        "        signs.append(row[1])\n",
        "    csvfile.close()"
      ],
      "execution_count": null,
      "outputs": []
    },
    {
      "cell_type": "markdown",
      "metadata": {
        "id": "M38OyqLU6h-r"
      },
      "source": [
        "---\n",
        "\n",
        "## Step 2: Dataset Summary & Exploration\n",
        "\n",
        "The pickled data is a dictionary with 4 key/value pairs:\n",
        "\n",
        "- `'features'` is a 4D array containing raw pixel data of the traffic sign images, (num examples, width, height, channels).\n",
        "- `'labels'` is a 1D array containing the label/class id of the traffic sign. The file `signnames.csv` contains id -> name mappings for each id.\n",
        "- `'sizes'` is a list containing tuples, (width, height) representing the original width and height the image.\n",
        "- `'coords'` is a list containing tuples, (x1, y1, x2, y2) representing coordinates of a bounding box around the sign in the image.\n",
        "\n",
        "The code snippets below will provide a basic summery of the Dataset."
      ]
    },
    {
      "cell_type": "markdown",
      "metadata": {
        "id": "i3qpMvdD6h-r"
      },
      "source": [
        "**First, we will use `numpy` provide the number of images in each subset, in addition to the image size, and the number of unique classes.**"
      ]
    },
    {
      "cell_type": "code",
      "metadata": {
        "colab": {
          "base_uri": "https://localhost:8080/"
        },
        "id": "woNkFkme6h-s",
        "outputId": "4737ef4b-cb02-4a15-c409-fb59d241808e"
      },
      "source": [
        "X_train, y_train = train['features'], train['labels']\n",
        "X_valid, y_valid = valid['features'], valid['labels']\n",
        "X_test, y_test = test['features'], test['labels']\n",
        "\n",
        "# Number of training examples\n",
        "n_train = X_train.shape[0]\n",
        "\n",
        "# Number of testing examples\n",
        "n_test = X_test.shape[0]\n",
        "\n",
        "# Number of validation examples.\n",
        "n_validation = X_valid.shape[0]\n",
        "\n",
        "# What's the shape of an traffic sign image?\n",
        "image_shape = X_train[0].shape\n",
        "\n",
        "# How many unique classes/labels there are in the dataset.\n",
        "n_classes = len(np.unique(y_train))\n",
        "\n",
        "print(\"Number of training examples: \", n_train)\n",
        "print(\"Number of testing examples: \", n_test)\n",
        "print(\"Number of validation examples: \", n_validation)\n",
        "print(\"Image data shape =\", image_shape)\n",
        "print(\"Number of classes =\", n_classes)"
      ],
      "execution_count": null,
      "outputs": [
        {
          "output_type": "stream",
          "text": [
            "Number of training examples:  34799\n",
            "Number of testing examples:  12630\n",
            "Number of validation examples:  4410\n",
            "Image data shape = (32, 32, 3)\n",
            "Number of classes = 43\n"
          ],
          "name": "stdout"
        }
      ]
    },
    {
      "cell_type": "markdown",
      "metadata": {
        "id": "yv-w0dUJ_9-_"
      },
      "source": [
        "## if you want to train on augmented Data\n"
      ]
    },
    {
      "cell_type": "code",
      "metadata": {
        "id": "0tm0EwMn9kEY"
      },
      "source": [
        "# # if you want to train on augmented Data\n",
        "# loaded = np.load('/content/drive/MyDrive/Colab Notebooks/Datasets/Augmented_Data/augmentedData2100.npz')\n",
        "# X_train = loaded['X_train_aug']\n",
        "# y_train = loaded['y_train_aug']"
      ],
      "execution_count": null,
      "outputs": []
    },
    {
      "cell_type": "code",
      "metadata": {
        "colab": {
          "base_uri": "https://localhost:8080/"
        },
        "id": "nHHuoBOQ-TX3",
        "outputId": "1e170f8d-a59c-45af-b594-6d6726c955b5"
      },
      "source": [
        "X_train.shape"
      ],
      "execution_count": null,
      "outputs": [
        {
          "output_type": "execute_result",
          "data": {
            "text/plain": [
              "(34799, 32, 32, 3)"
            ]
          },
          "metadata": {
            "tags": []
          },
          "execution_count": 6
        }
      ]
    },
    {
      "cell_type": "markdown",
      "metadata": {
        "id": "B1oRWpTV6h-t"
      },
      "source": [
        "**Then, we will use `matplotlib` plot sample images from each subset.**"
      ]
    },
    {
      "cell_type": "code",
      "metadata": {
        "scrolled": false,
        "id": "-Bbz7hA46h-t"
      },
      "source": [
        "def list_images(dataset, dataset_y, ylabel=\"\", cmap=None):\n",
        "    \"\"\"\n",
        "    Display a list of images in a single figure with matplotlib.\n",
        "        Parameters:\n",
        "            images: An np.array compatible with plt.imshow.\n",
        "            lanel (Default = No label): A string to be used as a label for each image.\n",
        "            cmap (Default = None): Used to display gray images.\n",
        "    \"\"\"\n",
        "    plt.figure(figsize=(15, 16))\n",
        "    for i in range(6):\n",
        "        plt.subplot(1, 6, i+1)\n",
        "        indx = random.randint(0, len(dataset))\n",
        "        #Use gray scale color map if there is only one channel\n",
        "        cmap = 'gray' if len(dataset[indx].shape) == 2 else cmap\n",
        "        plt.imshow(dataset[indx], cmap = cmap)\n",
        "        plt.xlabel(signs[dataset_y[indx]])\n",
        "        plt.ylabel(ylabel)\n",
        "        plt.xticks([])\n",
        "        plt.yticks([])\n",
        "    plt.tight_layout(pad=0, h_pad=0, w_pad=0)\n",
        "    plt.show()"
      ],
      "execution_count": null,
      "outputs": []
    },
    {
      "cell_type": "code",
      "metadata": {
        "colab": {
          "base_uri": "https://localhost:8080/",
          "height": 572
        },
        "id": "svo_Uq0s6h-u",
        "outputId": "a56472f4-367d-4451-e2ec-7765185e5975"
      },
      "source": [
        "# Plotting sample examples\n",
        "list_images(X_train, y_train, \"Training example\")\n",
        "list_images(X_test, y_test, \"Testing example\")\n",
        "list_images(X_valid, y_valid, \"Validation example\")"
      ],
      "execution_count": null,
      "outputs": [
        {
          "output_type": "display_data",
          "data": {
            "image/png": "[encoded data removed]",
            "text/plain": [
              "<Figure size 1080x1152 with 6 Axes>"
            ]
          },
          "metadata": {
            "tags": []
          }
        },
        {
          "output_type": "display_data",
          "data": {
            "image/png": "[encoded data removed]",
            "text/plain": [
              "<Figure size 1080x1152 with 6 Axes>"
            ]
          },
          "metadata": {
            "tags": []
          }
        },
        {
          "output_type": "display_data",
          "data": {
            "image/png": "[encoded data removed]",
            "text/plain": [
              "<Figure size 1080x1152 with 6 Axes>"
            ]
          },
          "metadata": {
            "tags": []
          }
        }
      ]
    },
    {
      "cell_type": "markdown",
      "metadata": {
        "id": "s43sOkuY6h-u"
      },
      "source": [
        "**And finally, we will use `numpy` to plot a histogram of the count of images in each unique class.**"
      ]
    },
    {
      "cell_type": "code",
      "metadata": {
        "id": "FRqwG4-J6h-u"
      },
      "source": [
        "def histogram_plot(dataset, label):\n",
        "    \"\"\"\n",
        "    Plots a histogram of the input data.\n",
        "        Parameters:\n",
        "            dataset: Input data to be plotted as a histogram.\n",
        "            lanel: A string to be used as a label for the histogram.\n",
        "    \"\"\"\n",
        "    hist, bins = np.histogram(dataset, bins=n_classes)\n",
        "    width = 0.7 * (bins[1] - bins[0])\n",
        "    center = (bins[:-1] + bins[1:]) / 2\n",
        "    plt.bar(center, hist, align='center', width=width)\n",
        "    plt.xlabel(label)\n",
        "    plt.ylabel(\"Image count\")\n",
        "    plt.show()"
      ],
      "execution_count": null,
      "outputs": []
    },
    {
      "cell_type": "code",
      "metadata": {
        "colab": {
          "base_uri": "https://localhost:8080/",
          "height": 806
        },
        "id": "NCBxTC6Q6h-v",
        "outputId": "ca3dcb46-c3c4-487d-c61b-7a3dbaff324b"
      },
      "source": [
        "# Plotting histograms of the count of each sign\n",
        "histogram_plot(y_train, \"Training examples\")\n",
        "histogram_plot(y_test, \"Testing examples\")\n",
        "histogram_plot(y_valid, \"Validation examples\")"
      ],
      "execution_count": null,
      "outputs": [
        {
          "output_type": "display_data",
          "data": {
            "image/png": "[encoded data removed]",
            "text/plain": [
              "<Figure size 432x288 with 1 Axes>"
            ]
          },
          "metadata": {
            "tags": [],
            "needs_background": "light"
          }
        },
        {
          "output_type": "display_data",
          "data": {
            "image/png": "[encoded data removed]",
            "text/plain": [
              "<Figure size 432x288 with 1 Axes>"
            ]
          },
          "metadata": {
            "tags": [],
            "needs_background": "light"
          }
        },
        {
          "output_type": "display_data",
          "data": {
            "image/png": "[encoded data removed]",
            "text/plain": [
              "<Figure size 432x288 with 1 Axes>"
            ]
          },
          "metadata": {
            "tags": [],
            "needs_background": "light"
          }
        }
      ]
    },
    {
      "cell_type": "markdown",
      "metadata": {
        "id": "klm_ItTG6h-v"
      },
      "source": [
        "---\n",
        "\n",
        "## Step 3: Data Preprocessing\n",
        "\n",
        "In this step, we will apply several preprocessing steps to the input images to achieve the best possible results.\n",
        "\n",
        "**We will use the following preprocessing techniques:**\n",
        "1. Shuffling.\n",
        "2. Grayscaling.\n",
        "3. Local Histogram Equalization.\n",
        "4. Normalization."
      ]
    },
    {
      "cell_type": "markdown",
      "metadata": {
        "id": "7pbiMrCL6h-v"
      },
      "source": [
        "1.\n",
        "**Shuffling**: In general, we shuffle the training data to increase randomness and variety in training dataset, in order for the model to be more stable. We will use `sklearn` to shuffle our data."
      ]
    },
    {
      "cell_type": "code",
      "metadata": {
        "id": "jD5vGizw6h-w"
      },
      "source": [
        "X_train, y_train = shuffle(X_train, y_train)"
      ],
      "execution_count": null,
      "outputs": []
    },
    {
      "cell_type": "markdown",
      "metadata": {
        "id": "i0kbrxIS6h-w"
      },
      "source": [
        "2.\n",
        "**Grayscaling**: In their paper [\"Traffic Sign Recognition with Multi-Scale Convolutional Networks\"](http://yann.lecun.com/exdb/publis/pdf/sermanet-ijcnn-11.pdf) published in 2011, P. Sermanet and Y. LeCun stated that using grayscale images instead of color improves the ConvNet's accuracy. We will use `OpenCV` to convert the training images into grey scale."
      ]
    },
    {
      "cell_type": "code",
      "metadata": {
        "id": "BsHDmfew6h-w"
      },
      "source": [
        "def gray_scale(image):\n",
        "    \"\"\"\n",
        "    Convert images to gray scale.\n",
        "        Parameters:\n",
        "            image: An np.array compatible with plt.imshow.\n",
        "    \"\"\"\n",
        "    return cv2.cvtColor(image, cv2.COLOR_RGB2GRAY)"
      ],
      "execution_count": null,
      "outputs": []
    },
    {
      "cell_type": "code",
      "metadata": {
        "colab": {
          "base_uri": "https://localhost:8080/",
          "height": 163
        },
        "id": "YjxYFlFw6h-w",
        "outputId": "7e6255e4-db5b-4a07-9cc5-1dc2d47fe15a"
      },
      "source": [
        "# Sample images after greyscaling\n",
        "gray_images = list(map(gray_scale, X_train))\n",
        "list_images(gray_images, y_train, \"Gray Scale image\", \"gray\")"
      ],
      "execution_count": null,
      "outputs": [
        {
          "output_type": "display_data",
          "data": {
            "image/png": "[encoded data removed]",
            "text/plain": [
              "<Figure size 1080x1152 with 6 Axes>"
            ]
          },
          "metadata": {
            "tags": []
          }
        }
      ]
    },
    {
      "cell_type": "markdown",
      "metadata": {
        "id": "Qv5IyFpz6h-w"
      },
      "source": [
        "3.\n",
        "**Local Histogram Equalization**: This technique simply spreads out the most frequent intensity values in an image, resulting in enhancing images with low contrast. Applying this technique will be very helpfull in our case since the dataset in hand has real world images, and many of them has low contrast. We will use `skimage` to apply local histogram equalization to the training images."
      ]
    },
    {
      "cell_type": "code",
      "metadata": {
        "id": "if5WLUYq6h-x"
      },
      "source": [
        "def local_histo_equalize(image):\n",
        "    \"\"\"\n",
        "    Apply local histogram equalization to grayscale images.\n",
        "        Parameters:\n",
        "            image: A grayscale image.\n",
        "    \"\"\"\n",
        "    kernel = morp.disk(30)\n",
        "    img_local = rank.equalize(image, selem=kernel)\n",
        "    return img_local"
      ],
      "execution_count": null,
      "outputs": []
    },
    {
      "cell_type": "code",
      "metadata": {
        "colab": {
          "base_uri": "https://localhost:8080/",
          "height": 211
        },
        "id": "2Td29_Ny6h-x",
        "outputId": "fa71b7c7-68a4-4eee-d10a-aabe236d4735"
      },
      "source": [
        "# Sample images after Local Histogram Equalization\n",
        "equalized_images = list(map(local_histo_equalize, gray_images))\n",
        "list_images(equalized_images, y_train, \"Equalized Image\", \"gray\")"
      ],
      "execution_count": null,
      "outputs": [
        {
          "output_type": "display_data",
          "data": {
            "image/png": "[encoded data removed]",
            "text/plain": [
              "<Figure size 1080x1152 with 6 Axes>"
            ]
          },
          "metadata": {
            "tags": []
          }
        }
      ]
    },
    {
      "cell_type": "markdown",
      "metadata": {
        "id": "erBc7YX36h-x"
      },
      "source": [
        "4.\n",
        "**Normalization**: Normalization is a process that changes the range of pixel intensity values. Usually the image data should be normalized so that the data has mean zero and equal variance."
      ]
    },
    {
      "cell_type": "code",
      "metadata": {
        "id": "FP8-2scp6h-x"
      },
      "source": [
        "def image_normalize(image):\n",
        "    \"\"\"\n",
        "    Normalize images to [0, 1] scale.\n",
        "        Parameters:\n",
        "            image: An np.array compatible with plt.imshow.\n",
        "    \"\"\"\n",
        "    image = np.divide(image, 255)\n",
        "    return image"
      ],
      "execution_count": null,
      "outputs": []
    },
    {
      "cell_type": "code",
      "metadata": {
        "colab": {
          "base_uri": "https://localhost:8080/",
          "height": 163
        },
        "id": "rXOHuJj96h-y",
        "outputId": "239d35b3-8c08-43f0-df1b-4aaeb3315bae"
      },
      "source": [
        "# Sample images after normalization\n",
        "n_training = X_train.shape\n",
        "normalized_images = np.zeros((n_training[0], n_training[1], n_training[2]))\n",
        "for i, img in enumerate(equalized_images):\n",
        "    normalized_images[i] = image_normalize(img)\n",
        "list_images(normalized_images, y_train, \"Normalized Image\", \"gray\")\n",
        "normalized_images = normalized_images[..., None]"
      ],
      "execution_count": null,
      "outputs": [
        {
          "output_type": "display_data",
          "data": {
            "image/png": "[encoded data removed]",
            "text/plain": [
              "<Figure size 1080x1152 with 6 Axes>"
            ]
          },
          "metadata": {
            "tags": []
          }
        }
      ]
    },
    {
      "cell_type": "code",
      "metadata": {
        "colab": {
          "base_uri": "https://localhost:8080/"
        },
        "id": "AscTx2pwqUUF",
        "outputId": "b80a909a-7b70-4a6c-df54-aaf6e98f3d2b"
      },
      "source": [
        "normalized_images[1].shape"
      ],
      "execution_count": null,
      "outputs": [
        {
          "output_type": "execute_result",
          "data": {
            "text/plain": [
              "(32, 32, 1)"
            ]
          },
          "metadata": {
            "tags": []
          },
          "execution_count": 18
        }
      ]
    },
    {
      "cell_type": "code",
      "metadata": {
        "id": "fjKK8iUe6h-y"
      },
      "source": [
        "def preprocess(data):\n",
        "    \"\"\"\n",
        "    Applying the preprocessing steps to the input data.\n",
        "        Parameters:\n",
        "            data: An np.array compatible with plt.imshow.\n",
        "    \"\"\"\n",
        "    gray_images = list(map(gray_scale, data))\n",
        "    equalized_images = list(map(local_histo_equalize, gray_images))\n",
        "    n_training = data.shape\n",
        "    normalized_images = np.zeros((n_training[0], n_training[1], n_training[2]))\n",
        "    for i, img in enumerate(equalized_images):\n",
        "        normalized_images[i] = image_normalize(img)\n",
        "    normalized_images = normalized_images[..., None]\n",
        "    return normalized_images"
      ],
      "execution_count": null,
      "outputs": []
    },
    {
      "cell_type": "markdown",
      "metadata": {
        "id": "iZqXrfCm6h-y"
      },
      "source": [
        "---\n",
        "\n",
        "## Step 3: Design a Model Architecture\n",
        "\n",
        "In this step, we will design and implement a deep learning model that learns to recognize traffic signs from our dataset [German Traffic Sign Dataset](http://benchmark.ini.rub.de/?section=gtsrb&subsection=dataset).\n",
        "\n",
        "We'll use Convolutional Neural Networks to classify the images in this dataset. The reason behind choosing ConvNets is that they are designed to recognize visual patterns directly from pixel images with minimal preprocessing. They automatically learn hierarchies of invariant features at every level from data.\n",
        "We will implement two of the most famous ConvNets. Our goal is to reach an accuracy of +95% on the validation set.\n",
        "\n",
        "I'll start by explaining each network architecture, then implement it using TensorFlow."
      ]
    },
    {
      "cell_type": "markdown",
      "metadata": {
        "id": "WK9wCYQ36h-z"
      },
      "source": [
        "**Notes**:\n",
        "1. We specify the learning rate of 0.001, which tells the network how quickly to update the weights.\n",
        "2. We minimize the loss function using the Adaptive Moment Estimation (Adam) Algorithm. Adam is an optimization algorithm introduced by D. Kingma and J. Lei Ba in a 2015 paper named [Adam: A Method for Stochastic Optimization](https://arxiv.org/abs/1412.6980). Adam algorithm computes adaptive learning rates for each parameter. In addition to storing an exponentially decaying average of past squared gradients like [Adadelta](https://arxiv.org/pdf/1212.5701.pdf) and [RMSprop](https://www.cs.toronto.edu/~tijmen/csc321/slides/lecture_slides_lec6.pdf) algorithms, Adam also keeps an exponentially decaying average of past gradients mtmt, similar to [momentum algorithm](http://www.sciencedirect.com/science/article/pii/S0893608098001166?via%3Dihub), which in turn produce better results.\n",
        "3. we will run `minimize()` function on the optimizer which use backprobagation to update the network and minimize our training loss."
      ]
    },
    {
      "cell_type": "markdown",
      "metadata": {
        "id": "VQk1NK766h-z"
      },
      "source": [
        "### 1.  LeNet-5\n",
        "LeNet-5 is a convolutional network designed for handwritten and machine-printed character recognition. It was introduced by the famous [Yann LeCun](https://en.wikipedia.org/wiki/Yann_LeCun) in his paper [Gradient-Based Learning Applied to Document Recognition](http://yann.lecun.com/exdb/publis/pdf/lecun-01a.pdf) in 1998. Although this ConvNet is intended to classify hand-written digits, we're confident it have a very high accuracy when dealing with traffic signs, given that both hand-written digits and traffic signs are given to the computer in the form of pixel images.\n",
        "\n",
        "**LeNet-5 architecture:**\n",
        "<figure>\n",
        " <img src=\"LeNet.png\" width=\"1072\" alt=\"Combined Image\" />\n",
        " <figcaption>\n",
        " <p></p> \n",
        " </figcaption>\n",
        "</figure>"
      ]
    },
    {
      "cell_type": "markdown",
      "metadata": {
        "id": "LKj4Ys2m6h-0"
      },
      "source": [
        "This ConvNet follows these steps:\n",
        "\n",
        "Input => Convolution => ReLU => Pooling => Convolution => ReLU => Pooling => FullyConnected => ReLU => FullyConnected\n",
        "\n",
        "**Layer 1 (Convolutional):** The output shape should be 28x28x6.\n",
        "\n",
        "**Activation.** Your choice of activation function.\n",
        "\n",
        "**Pooling.** The output shape should be 14x14x6.\n",
        "\n",
        "**Layer 2 (Convolutional):** The output shape should be 10x10x16.\n",
        "\n",
        "**Activation.** Your choice of activation function.\n",
        "\n",
        "**Pooling.** The output shape should be 5x5x16.\n",
        "\n",
        "**Flattening:** Flatten the output shape of the final pooling layer such that it's 1D instead of 3D.\n",
        "\n",
        "**Layer 3 (Fully Connected):** This should have 120 outputs.\n",
        "\n",
        "**Activation.** Your choice of activation function.\n",
        "\n",
        "**Layer 4 (Fully Connected):** This should have 84 outputs.\n",
        "\n",
        "**Activation.** Your choice of activation function.\n",
        "\n",
        "**Layer 5 (Fully Connected):** This should have 43 outputs."
      ]
    },
    {
      "cell_type": "code",
      "metadata": {
        "id": "GrLKhpjG6h-0"
      },
      "source": [
        "class LaNet:  \n",
        "\n",
        "    def __init__(self, n_out=43, mu=0, sigma=0.1, learning_rate=0.001):\n",
        "        # Hyperparameters\n",
        "        self.mu = mu\n",
        "        self.sigma = sigma\n",
        "\n",
        "        # Layer 1 (Convolutional): Input = 32x32x1. Output = 28x28x6.\n",
        "        self.filter1_width = 5\n",
        "        self.filter1_height = 5\n",
        "        self.input1_channels = 1\n",
        "        self.conv1_output = 6\n",
        "        # Weight and bias\n",
        "        self.conv1_weight = tf.Variable(tf.truncated_normal(\n",
        "            shape=(self.filter1_width, self.filter1_height, self.input1_channels, self.conv1_output),\n",
        "            mean = self.mu, stddev = self.sigma))\n",
        "        self.conv1_bias = tf.Variable(tf.zeros(self.conv1_output))\n",
        "        # Apply Convolution\n",
        "        self.conv1 = tf.nn.conv2d(x, self.conv1_weight, strides=[1, 1, 1, 1], padding='VALID') + self.conv1_bias\n",
        "        \n",
        "        # Activation:\n",
        "        self.conv1 = tf.nn.relu(self.conv1)\n",
        "        \n",
        "        # Pooling: Input = 28x28x6. Output = 14x14x6.\n",
        "        self.conv1 = tf.nn.max_pool(self.conv1, ksize=[1, 2, 2, 1], strides=[1, 2, 2, 1], padding='VALID')\n",
        "        \n",
        "        # Layer 2 (Convolutional): Output = 10x10x16.\n",
        "        self.filter2_width = 5\n",
        "        self.filter2_height = 5\n",
        "        self.input2_channels = 6\n",
        "        self.conv2_output = 16\n",
        "        # Weight and bias\n",
        "        self.conv2_weight = tf.Variable(tf.truncated_normal(\n",
        "            shape=(self.filter2_width, self.filter2_height, self.input2_channels, self.conv2_output),\n",
        "            mean = self.mu, stddev = self.sigma))\n",
        "        self.conv2_bias = tf.Variable(tf.zeros(self.conv2_output))\n",
        "        # Apply Convolution\n",
        "        self.conv2 = tf.nn.conv2d(self.conv1, self.conv2_weight, strides=[1, 1, 1, 1], padding='VALID') + self.conv2_bias\n",
        "        \n",
        "        # Activation:\n",
        "        self.conv2 = tf.nn.relu(self.conv2)\n",
        "        \n",
        "        # Pooling: Input = 10x10x16. Output = 5x5x16.\n",
        "        self.conv2 = tf.nn.max_pool(self.conv2, ksize=[1, 2, 2, 1], strides=[1, 2, 2, 1], padding='VALID')\n",
        "        \n",
        "        # Flattening: Input = 5x5x16. Output = 400.\n",
        "        self.fully_connected0 = flatten(self.conv2)\n",
        "        \n",
        "        # Layer 3 (Fully Connected): Input = 400. Output = 120.\n",
        "        self.connected1_weights = tf.Variable(tf.truncated_normal(shape=(400, 120), mean = self.mu, stddev = self.sigma))\n",
        "        self.connected1_bias = tf.Variable(tf.zeros(120))\n",
        "        self.fully_connected1 = tf.add((tf.matmul(self.fully_connected0, self.connected1_weights)), self.connected1_bias)\n",
        "        \n",
        "        # Activation:\n",
        "        self.fully_connected1 = tf.nn.relu(self.fully_connected1)\n",
        "    \n",
        "        # Layer 4 (Fully Connected): Input = 120. Output = 84.\n",
        "        self.connected2_weights = tf.Variable(tf.truncated_normal(shape=(120, 84), mean = self.mu, stddev = self.sigma))\n",
        "        self.connected2_bias = tf.Variable(tf.zeros(84))\n",
        "        self.fully_connected2 = tf.add((tf.matmul(self.fully_connected1, self.connected2_weights)), self.connected2_bias)\n",
        "        \n",
        "        # Activation.\n",
        "        self.fully_connected2 = tf.nn.relu(self.fully_connected2)\n",
        "    \n",
        "        # Layer 5 (Fully Connected): Input = 84. Output = 43.\n",
        "        self.output_weights = tf.Variable(tf.truncated_normal(shape=(84, 43), mean = self.mu, stddev = self.sigma))\n",
        "        self.output_bias = tf.Variable(tf.zeros(43))\n",
        "        self.logits =  tf.add((tf.matmul(self.fully_connected2, self.output_weights)), self.output_bias)\n",
        "\n",
        "        # Training operation\n",
        "        self.one_hot_y = tf.one_hot(y, n_out)\n",
        "        self.cross_entropy = tf.nn.softmax_cross_entropy_with_logits_v2(logits=self.logits, labels=self.one_hot_y)\n",
        "        self.loss_operation = tf.reduce_mean(self.cross_entropy)\n",
        "        self.optimizer = tf.train.AdamOptimizer(learning_rate = learning_rate)\n",
        "        self.training_operation = self.optimizer.minimize(self.loss_operation)\n",
        "\n",
        "        # Accuracy operation\n",
        "        self.correct_prediction = tf.equal(tf.argmax(self.logits, 1), tf.argmax(self.one_hot_y, 1))\n",
        "        self.accuracy_operation = tf.reduce_mean(tf.cast(self.correct_prediction, tf.float32))\n",
        "\n",
        "        # Saving all variables\n",
        "        self.saver = tf.train.Saver()\n",
        "    \n",
        "    def y_predict(self, X_data, BATCH_SIZE=64):\n",
        "        num_examples = len(X_data)\n",
        "        y_pred = np.zeros(num_examples, dtype=np.int32)\n",
        "        sess = tf.get_default_session()\n",
        "        for offset in range(0, num_examples, BATCH_SIZE):\n",
        "            batch_x = X_data[offset:offset+BATCH_SIZE]\n",
        "            y_pred[offset:offset+BATCH_SIZE] = sess.run(tf.argmax(self.logits, 1), \n",
        "                               feed_dict={x:batch_x, keep_prob:1, keep_prob_conv:1})\n",
        "        return y_pred\n",
        "    \n",
        "    def evaluate(self, X_data, y_data, BATCH_SIZE=64):\n",
        "        num_examples = len(X_data)\n",
        "        total_accuracy = 0\n",
        "        sess = tf.get_default_session()\n",
        "        for offset in range(0, num_examples, BATCH_SIZE):\n",
        "            batch_x, batch_y = X_data[offset:offset+BATCH_SIZE], y_data[offset:offset+BATCH_SIZE]\n",
        "            accuracy = sess.run(self.accuracy_operation, \n",
        "                                feed_dict={x: batch_x, y: batch_y, keep_prob: 1.0, keep_prob_conv: 1.0 })\n",
        "            total_accuracy += (accuracy * len(batch_x))\n",
        "        return total_accuracy / num_examples"
      ],
      "execution_count": null,
      "outputs": []
    },
    {
      "cell_type": "markdown",
      "metadata": {
        "id": "uzdh4iQH6h-1"
      },
      "source": [
        "### 2.  VGGNet\n",
        "VGGNet was first introduced in 2014 by K. Simonyan and A. Zisserman from the University of Oxford in a paper called [Very Deep Convolutional Networks for Large-Scale Image Recognition](https://arxiv.org/pdf/1409.1556.pdf). They were investigating the convolutional network depth on its accuracy in the large-scale image recognition setting. Their main contribution is a thorough evaluation of networks of increasing depth using an architecture with very small (3x3) convolution filters, which shows that a significant improvement on the prior-art configurations can be achieved by pushing the depth to 16-19 weight layers.\n",
        "\n",
        "**VGGNet architecture:**\n",
        "<figure>\n",
        " <img src=\"VGGNet.png\" width=\"1072\" alt=\"Combined Image\" />\n",
        " <figcaption>\n",
        " <p></p> \n",
        " </figcaption>\n",
        "</figure>"
      ]
    },
    {
      "cell_type": "markdown",
      "metadata": {
        "id": "_JWBK_bK6h-2"
      },
      "source": [
        "The original VGGNet architecture has 16-19 layers, but I've excluded some of them and implemented a modified version of only 12 layers to save computational resources.\n",
        "\n",
        "This ConvNet follows these steps:\n",
        "\n",
        "Input => Convolution => ReLU => Convolution => ReLU => Pooling => Convolution => ReLU => Convolution => ReLU => Pooling => Convolution => ReLU => Convolution => ReLU => Pooling => FullyConnected => ReLU => FullyConnected => ReLU => FullyConnected\n",
        "\n",
        "**Layer 1 (Convolutional):** The output shape should be 32x32x32.\n",
        "\n",
        "**Activation.** Your choice of activation function.\n",
        "\n",
        "**Layer 2 (Convolutional):** The output shape should be 32x32x32.\n",
        "\n",
        "**Activation.** Your choice of activation function.\n",
        "\n",
        "**Layer 3 (Pooling)** The output shape should be 16x16x32.\n",
        "\n",
        "**Layer 4 (Convolutional):** The output shape should be 16x16x64.\n",
        "\n",
        "**Activation.** Your choice of activation function.\n",
        "\n",
        "**Layer 5 (Convolutional):** The output shape should be 16x16x64.\n",
        "\n",
        "**Activation.** Your choice of activation function.\n",
        "\n",
        "**Layer 6 (Pooling)** The output shape should be 8x8x64.\n",
        "\n",
        "**Layer 7 (Convolutional):** The output shape should be 8x8x128.\n",
        "\n",
        "**Activation.** Your choice of activation function.\n",
        "\n",
        "**Layer 8 (Convolutional):** The output shape should be 8x8x128.\n",
        "\n",
        "**Activation.** Your choice of activation function.\n",
        "\n",
        "**Layer 9 (Pooling)** The output shape should be 4x4x128.\n",
        "\n",
        "**Flattening:** Flatten the output shape of the final pooling layer such that it's 1D instead of 3D.\n",
        "\n",
        "**Layer 10 (Fully Connected):** This should have 128 outputs.\n",
        "\n",
        "**Activation.** Your choice of activation function.\n",
        "\n",
        "**Layer 11 (Fully Connected):** This should have 128 outputs.\n",
        "\n",
        "**Activation.** Your choice of activation function.\n",
        "\n",
        "**Layer 12 (Fully Connected):** This should have 43 outputs."
      ]
    },
    {
      "cell_type": "code",
      "metadata": {
        "id": "Cp9wllzl6h-2"
      },
      "source": [
        "class VGGnet:  \n",
        "\n",
        "    def __init__(self, n_out=43, mu=0, sigma=0.1, learning_rate=0.001):\n",
        "        # Hyperparameters\n",
        "        self.mu = mu\n",
        "        self.sigma = sigma\n",
        "\n",
        "        # Layer 1 (Convolutional): Input = 32x32x1. Output = 32x32x32.\n",
        "        self.conv1_W = tf.Variable(tf.truncated_normal(shape=(3, 3, 1, 32), mean = self.mu, stddev = self.sigma))\n",
        "        self.conv1_b = tf.Variable(tf.zeros(32))\n",
        "        self.conv1   = tf.nn.conv2d(x, self.conv1_W, strides=[1, 1, 1, 1], padding='SAME') + self.conv1_b\n",
        "\n",
        "        # ReLu Activation.\n",
        "        self.conv1 = tf.nn.relu(self.conv1)\n",
        "\n",
        "        # Layer 2 (Convolutional): Input = 32x32x32. Output = 32x32x32.\n",
        "        self.conv2_W = tf.Variable(tf.truncated_normal(shape=(3, 3, 32, 32), mean = self.mu, stddev = self.sigma))\n",
        "        self.conv2_b = tf.Variable(tf.zeros(32))\n",
        "        self.conv2   = tf.nn.conv2d(self.conv1, self.conv2_W, strides=[1, 1, 1, 1], padding='SAME') + self.conv2_b\n",
        "\n",
        "        # ReLu Activation.\n",
        "        self.conv2 = tf.nn.relu(self.conv2)\n",
        "\n",
        "        # Layer 3 (Pooling): Input = 32x32x32. Output = 16x16x32.\n",
        "        self.conv2 = tf.nn.max_pool(self.conv2, ksize=[1, 2, 2, 1], strides=[1, 2, 2, 1], padding='VALID')\n",
        "        self.conv2 = tf.nn.dropout(self.conv2, keep_prob_conv)\n",
        "\n",
        "        # Layer 4 (Convolutional): Input = 16x16x32. Output = 16x16x64.\n",
        "        self.conv3_W = tf.Variable(tf.truncated_normal(shape=(3, 3, 32, 64), mean = self.mu, stddev = self.sigma))\n",
        "        self.conv3_b = tf.Variable(tf.zeros(64))\n",
        "        self.conv3   = tf.nn.conv2d(self.conv2, self.conv3_W, strides=[1, 1, 1, 1], padding='SAME') + self.conv3_b\n",
        "\n",
        "        # ReLu Activation.\n",
        "        self.conv3 = tf.nn.relu(self.conv3)\n",
        "\n",
        "        # Layer 5 (Convolutional): Input = 16x16x64. Output = 16x16x64.\n",
        "        self.conv4_W = tf.Variable(tf.truncated_normal(shape=(3, 3, 64, 64), mean = self.mu, stddev = self.sigma))\n",
        "        self.conv4_b = tf.Variable(tf.zeros(64))\n",
        "        self.conv4   = tf.nn.conv2d(self.conv3, self.conv4_W, strides=[1, 1, 1, 1], padding='SAME') + self.conv4_b\n",
        "\n",
        "        # ReLu Activation.\n",
        "        self.conv4 = tf.nn.relu(self.conv4)\n",
        "\n",
        "        # Layer 6 (Pooling): Input = 16x16x64. Output = 8x8x64.\n",
        "        self.conv4 = tf.nn.max_pool(self.conv4, ksize=[1, 2, 2, 1], strides=[1, 2, 2, 1], padding='VALID')\n",
        "        self.conv4 = tf.nn.dropout(self.conv4, keep_prob_conv) # dropout\n",
        "\n",
        "        # Layer 7 (Convolutional): Input = 8x8x64. Output = 8x8x128.\n",
        "        self.conv5_W = tf.Variable(tf.truncated_normal(shape=(3, 3, 64, 128), mean = self.mu, stddev = self.sigma))\n",
        "        self.conv5_b = tf.Variable(tf.zeros(128))\n",
        "        self.conv5   = tf.nn.conv2d(self.conv4, self.conv5_W, strides=[1, 1, 1, 1], padding='SAME') + self.conv5_b\n",
        "\n",
        "        # ReLu Activation.\n",
        "        self.conv5 = tf.nn.relu(self.conv5)\n",
        "\n",
        "        # Layer 8 (Convolutional): Input = 8x8x128. Output = 8x8x128.\n",
        "        self.conv6_W = tf.Variable(tf.truncated_normal(shape=(3, 3, 128, 128), mean = self.mu, stddev = self.sigma))\n",
        "        self.conv6_b = tf.Variable(tf.zeros(128))\n",
        "        self.conv6   = tf.nn.conv2d(self.conv5, self.conv6_W, strides=[1, 1, 1, 1], padding='SAME') + self.conv6_b\n",
        "\n",
        "        # ReLu Activation.\n",
        "        self.conv6 = tf.nn.relu(self.conv6)\n",
        "\n",
        "        # Layer 9 (Pooling): Input = 8x8x128. Output = 4x4x128.\n",
        "        self.conv6 = tf.nn.max_pool(self.conv6, ksize=[1, 2, 2, 1], strides=[1, 2, 2, 1], padding='VALID')\n",
        "        self.conv6 = tf.nn.dropout(self.conv6, keep_prob_conv) # dropout\n",
        "\n",
        "        # Flatten. Input = 4x4x128. Output = 2048.\n",
        "        self.fc0   = flatten(self.conv6)\n",
        "\n",
        "        # Layer 10 (Fully Connected): Input = 2048. Output = 128.\n",
        "        self.fc1_W = tf.Variable(tf.truncated_normal(shape=(2048, 128), mean = self.mu, stddev = self.sigma))\n",
        "        self.fc1_b = tf.Variable(tf.zeros(128))\n",
        "        self.fc1   = tf.matmul(self.fc0, self.fc1_W) + self.fc1_b\n",
        "\n",
        "        # ReLu Activation.\n",
        "        self.fc1    = tf.nn.relu(self.fc1)\n",
        "        self.fc1    = tf.nn.dropout(self.fc1, keep_prob) # dropout\n",
        "\n",
        "        # Layer 11 (Fully Connected): Input = 128. Output = 128.\n",
        "        self.fc2_W  = tf.Variable(tf.truncated_normal(shape=(128, 128), mean = self.mu, stddev = self.sigma))\n",
        "        self.fc2_b  = tf.Variable(tf.zeros(128))\n",
        "        self.fc2    = tf.matmul(self.fc1, self.fc2_W) + self.fc2_b\n",
        "\n",
        "        # ReLu Activation.\n",
        "        self.fc2    = tf.nn.relu(self.fc2)\n",
        "        self.fc2    = tf.nn.dropout(self.fc2, keep_prob) # dropout\n",
        "\n",
        "        # Layer 12 (Fully Connected): Input = 128. Output = n_out.\n",
        "        self.fc3_W  = tf.Variable(tf.truncated_normal(shape=(128, n_out), mean = self.mu, stddev = self.sigma))\n",
        "        self.fc3_b  = tf.Variable(tf.zeros(n_out))\n",
        "        self.logits = tf.matmul(self.fc2, self.fc3_W) + self.fc3_b\n",
        "\n",
        "        # Training operation\n",
        "        self.one_hot_y = tf.one_hot(y, n_out)\n",
        "        self.cross_entropy = tf.nn.softmax_cross_entropy_with_logits_v2(logits=self.logits, labels=self.one_hot_y)\n",
        "        self.loss_operation = tf.reduce_mean(self.cross_entropy)\n",
        "        self.optimizer = tf.train.AdamOptimizer(learning_rate = learning_rate)\n",
        "        self.training_operation = self.optimizer.minimize(self.loss_operation)\n",
        "\n",
        "        # Accuracy operation\n",
        "        self.correct_prediction = tf.equal(tf.argmax(self.logits, 1), tf.argmax(self.one_hot_y, 1))\n",
        "        self.accuracy_operation = tf.reduce_mean(tf.cast(self.correct_prediction, tf.float32))\n",
        "\n",
        "        # Saving all variables\n",
        "        self.saver = tf.train.Saver()\n",
        "        \n",
        "    def y_predict(self, X_data, BATCH_SIZE=64):\n",
        "        num_examples = len(X_data)\n",
        "        y_pred = np.zeros(num_examples, dtype=np.int32)\n",
        "        sess = tf.get_default_session()\n",
        "        for offset in range(0, num_examples, BATCH_SIZE):\n",
        "            batch_x = X_data[offset:offset+BATCH_SIZE]\n",
        "            y_pred[offset:offset+BATCH_SIZE] = sess.run(tf.argmax(self.logits, 1), \n",
        "                               feed_dict={x:batch_x, keep_prob:1, keep_prob_conv:1})\n",
        "        return y_pred\n",
        "    \n",
        "    def evaluate(self, X_data, y_data, BATCH_SIZE=64):\n",
        "        num_examples = len(X_data)\n",
        "        total_accuracy = 0\n",
        "        sess = tf.get_default_session()\n",
        "        for offset in range(0, num_examples, BATCH_SIZE):\n",
        "            batch_x, batch_y = X_data[offset:offset+BATCH_SIZE], y_data[offset:offset+BATCH_SIZE]\n",
        "            accuracy = sess.run(self.accuracy_operation, \n",
        "                                feed_dict={x: batch_x, y: batch_y, keep_prob: 1.0, keep_prob_conv: 1.0 })\n",
        "            total_accuracy += (accuracy * len(batch_x))\n",
        "        return total_accuracy / num_examples"
      ],
      "execution_count": null,
      "outputs": []
    },
    {
      "cell_type": "markdown",
      "metadata": {
        "id": "aY3FwORI6h-4"
      },
      "source": [
        "---\n",
        "\n",
        "## Step 4: Model Training and Evaluation\n",
        "\n",
        "In this step, we will train our model using `normalized_images`, then we'll compute softmax cross entropy between `logits` and `labels` to measure the model's error probability."
      ]
    },
    {
      "cell_type": "markdown",
      "metadata": {
        "id": "hjfh5Xsq6h-4"
      },
      "source": [
        "`x` is a placeholder for a batch of input images.\n",
        "`y` is a placeholder for a batch of output labels."
      ]
    },
    {
      "cell_type": "code",
      "metadata": {
        "id": "72tOJVLO6h-4"
      },
      "source": [
        "x = tf.placeholder(tf.float32, (None, 32, 32, 1))\n",
        "y = tf.placeholder(tf.int32, (None))"
      ],
      "execution_count": null,
      "outputs": []
    },
    {
      "cell_type": "markdown",
      "metadata": {
        "id": "YYZx2Bep6h-4"
      },
      "source": [
        "The `keep_prob` and `keep_prob_conv` variables will be used to control the dropout rate when training the neural network.\n",
        "Overfitting is a serious problem in deep nural networks. Dropout is a technique for addressing this problem.\n",
        "The key idea is to randomly drop units (along with their connections) from the neural network during training. This prevents units from co-adapting too much. During training, dropout samples from an exponential number of different “thinned” networks. At test time, it is easy to approximate the effect of averaging the predictions of all these thinned networks by simply using a single unthinned network that has smaller weights. This significantly reduces overfitting and gives major improvements over other regularization methods. This technique was introduced by N. Srivastava, G. Hinton, A. Krizhevsky I. Sutskever, and R. Salakhutdinov in their paper [Dropout: A Simple Way to Prevent Neural Networks from Overfitting](https://www.cs.toronto.edu/~hinton/absps/JMLRdropout.pdf)."
      ]
    },
    {
      "cell_type": "code",
      "metadata": {
        "id": "3_pMe2eG6h-4"
      },
      "source": [
        "keep_prob = tf.placeholder(tf.float32)       # For fully-connected layers\n",
        "keep_prob_conv = tf.placeholder(tf.float32)  # For convolutional layers"
      ],
      "execution_count": null,
      "outputs": []
    },
    {
      "cell_type": "code",
      "metadata": {
        "id": "RaTUnO356h-5"
      },
      "source": [
        "# Validation set preprocessing\n",
        "X_valid_preprocessed = preprocess(X_valid)"
      ],
      "execution_count": null,
      "outputs": []
    },
    {
      "cell_type": "code",
      "metadata": {
        "id": "9tLXNa7N6h-5"
      },
      "source": [
        "EPOCHS = 10\n",
        "BATCH_SIZE = 64\n",
        "DIR = 'Saved_Models'"
      ],
      "execution_count": null,
      "outputs": []
    },
    {
      "cell_type": "markdown",
      "metadata": {
        "id": "3F-l8OFR6h-5"
      },
      "source": [
        "Now, we'll run the training data through the training pipeline to train the model.\n",
        "- Before each epoch, we'll shuffle the training set.\n",
        "- After each epoch, we measure the loss and accuracy of the validation set.\n",
        "- And after training, we will save the model.\n",
        "- A low accuracy on the training and validation sets imply underfitting. A high accuracy on the training set but low accuracy on the validation set implies overfitting."
      ]
    },
    {
      "cell_type": "markdown",
      "metadata": {
        "id": "sfSvFPAo6h-5"
      },
      "source": [
        "### LeNet Model"
      ]
    },
    {
      "cell_type": "code",
      "metadata": {
        "colab": {
          "base_uri": "https://localhost:8080/"
        },
        "id": "k7WCVEPs6h-5",
        "outputId": "097492f0-1fcd-478c-fff1-8246be4c7ef5"
      },
      "source": [
        "LeNet_Model = LaNet(n_out = n_classes)\n",
        "model_name = \"LeNet_with_Data_Augmentation\"\n",
        "\n",
        "with tf.Session() as sess:\n",
        "    sess.run(tf.global_variables_initializer())\n",
        "    num_examples = len(y_train)\n",
        "    print(\"Training ...\")\n",
        "    print()\n",
        "    for i in range(EPOCHS):\n",
        "        normalized_images, y_train = shuffle(normalized_images, y_train)\n",
        "        for offset in range(0, num_examples, BATCH_SIZE):\n",
        "            end = offset + BATCH_SIZE\n",
        "            batch_x, batch_y = normalized_images[offset:end], y_train[offset:end]\n",
        "            sess.run(LeNet_Model.training_operation, feed_dict={x: batch_x, y: batch_y, keep_prob : 0.5, keep_prob_conv: 0.7})\n",
        "        # train_accuracy = LeNet_Model.evaluate(normalized_images, y_train)\n",
        "        # print(\"epoch {}: train accuracy = {:.2f}%\".format(i+1, (train_accuracy*100)))\n",
        "        validation_accuracy = LeNet_Model.evaluate(X_valid_preprocessed, y_valid)\n",
        "        print(\"epoch {}: validation accuracy = {:.2f}%\".format(i+1, (validation_accuracy*100)))\n",
        "    LeNet_Model.saver.save(sess, os.path.join('/content/drive/MyDrive/Colab Notebooks/Datasets/LeNet_shity', 'LeNet_shity'))\n",
        "    # print(\"LeNetmodel saved\")"
      ],
      "execution_count": null,
      "outputs": [
        {
          "output_type": "stream",
          "text": [
            "WARNING:tensorflow:From /tensorflow-1.15.2/python3.7/tensorflow_core/contrib/layers/python/layers/layers.py:1634: flatten (from tensorflow.python.layers.core) is deprecated and will be removed in a future version.\n",
            "Instructions for updating:\n",
            "Use keras.layers.flatten instead.\n",
            "WARNING:tensorflow:From /tensorflow-1.15.2/python3.7/tensorflow_core/python/layers/core.py:332: Layer.apply (from tensorflow.python.keras.engine.base_layer) is deprecated and will be removed in a future version.\n",
            "Instructions for updating:\n",
            "Please use `layer.__call__` method instead.\n",
            "Training ...\n",
            "\n",
            "epoch 1: validation accuracy = 77.85%\n",
            "epoch 2: validation accuracy = 88.44%\n",
            "epoch 3: validation accuracy = 89.71%\n",
            "epoch 4: validation accuracy = 90.77%\n",
            "epoch 5: validation accuracy = 91.43%\n",
            "epoch 6: validation accuracy = 91.02%\n",
            "epoch 7: validation accuracy = 91.18%\n",
            "epoch 8: validation accuracy = 92.86%\n",
            "epoch 9: validation accuracy = 91.95%\n",
            "epoch 10: validation accuracy = 92.27%\n"
          ],
          "name": "stdout"
        }
      ]
    },
    {
      "cell_type": "code",
      "metadata": {
        "id": "z8E9g8ni-Nf6"
      },
      "source": [
        "# # test set preprocessing\n",
        "# X_test_preprocessed = preprocess(X_test)\n",
        "# test_accuracy = LeNet_Model.evaluate(X_test_preprocessed, y_test)\n",
        "# print(f'test accuracy: {test_accuracy*100}')"
      ],
      "execution_count": null,
      "outputs": []
    },
    {
      "cell_type": "markdown",
      "metadata": {
        "id": "NjiO0j6R6h-6"
      },
      "source": [
        "As we can see, we've been able to reach a maximum accuracy of **95.3%** on the validation set over 30 epochs, using a learning rate of 0.001.\n",
        "\n",
        "Now, we'll train the VGGNet model and evaluate it's accuracy."
      ]
    },
    {
      "cell_type": "markdown",
      "metadata": {
        "id": "oGxqn4Dj6h-6"
      },
      "source": [
        "### VGGNet Model"
      ]
    },
    {
      "cell_type": "code",
      "metadata": {
        "colab": {
          "base_uri": "https://localhost:8080/",
          "height": 229
        },
        "id": "gfqIAQRQ6h-6",
        "outputId": "0faaa9c3-5124-4bf8-b59e-423b4101578c"
      },
      "source": [
        "VGGNet_Model = VGGnet(n_out = n_classes)\n",
        "model_name = \"VGGNet\"\n",
        "\n",
        "# Validation set preprocessing\n",
        "X_valid_preprocessed = preprocess(X_valid)\n",
        "one_hot_y_valid = tf.one_hot(y_valid, 43)\n",
        "\n",
        "with tf.Session() as sess:\n",
        "    sess.run(tf.global_variables_initializer())\n",
        "    num_examples = len(y_train)\n",
        "    print(\"Training...\")\n",
        "    print()\n",
        "    for i in range(EPOCHS):\n",
        "        normalized_images, y_train = shuffle(normalized_images, y_train)\n",
        "        for offset in range(0, num_examples, BATCH_SIZE):\n",
        "            end = offset + BATCH_SIZE\n",
        "            batch_x, batch_y = normalized_images[offset:end], y_train[offset:end]\n",
        "            hitory = sess.run(VGGNet_Model.training_operation, \n",
        "            feed_dict={x: batch_x, y: batch_y, keep_prob : 0.5, keep_prob_conv: 0.7})\n",
        "\n",
        "        validation_accuracy = VGGNet_Model.evaluate(X_valid_preprocessed, y_valid)\n",
        "        print(\"epoch {}: validation accuracy = {:.3f}%\".format(i+1, (validation_accuracy*100)))\n",
        "    VGGNet_Model.saver.save(sess, '/content/drive/MyDrive/Colab Notebooks/Datasets/VGGNet')\n",
        "    print(\"Model saved\")"
      ],
      "execution_count": null,
      "outputs": [
        {
          "output_type": "error",
          "ename": "NameError",
          "evalue": "ignored",
          "traceback": [
            "\u001b[0;31m---------------------------------------------------------------------------\u001b[0m",
            "\u001b[0;31mNameError\u001b[0m                                 Traceback (most recent call last)",
            "\u001b[0;32m<ipython-input-28-16aa7e66ae88>\u001b[0m in \u001b[0;36m<module>\u001b[0;34m()\u001b[0m\n\u001b[1;32m      5\u001b[0m \u001b[0mX_valid_preprocessed\u001b[0m \u001b[0;34m=\u001b[0m \u001b[0mpreprocess\u001b[0m\u001b[0;34m(\u001b[0m\u001b[0mX_valid\u001b[0m\u001b[0;34m)\u001b[0m\u001b[0;34m\u001b[0m\u001b[0;34m\u001b[0m\u001b[0m\n\u001b[1;32m      6\u001b[0m \u001b[0mone_hot_y_valid\u001b[0m \u001b[0;34m=\u001b[0m \u001b[0mtf\u001b[0m\u001b[0;34m.\u001b[0m\u001b[0mone_hot\u001b[0m\u001b[0;34m(\u001b[0m\u001b[0my_valid\u001b[0m\u001b[0;34m,\u001b[0m \u001b[0;36m43\u001b[0m\u001b[0;34m)\u001b[0m\u001b[0;34m\u001b[0m\u001b[0;34m\u001b[0m\u001b[0m\n\u001b[0;32m----> 7\u001b[0;31m \u001b[0mhistroy\u001b[0m\u001b[0;34m\u001b[0m\u001b[0;34m\u001b[0m\u001b[0m\n\u001b[0m\u001b[1;32m      8\u001b[0m \u001b[0;34m\u001b[0m\u001b[0m\n\u001b[1;32m      9\u001b[0m \u001b[0;32mwith\u001b[0m \u001b[0mtf\u001b[0m\u001b[0;34m.\u001b[0m\u001b[0mSession\u001b[0m\u001b[0;34m(\u001b[0m\u001b[0;34m)\u001b[0m \u001b[0;32mas\u001b[0m \u001b[0msess\u001b[0m\u001b[0;34m:\u001b[0m\u001b[0;34m\u001b[0m\u001b[0;34m\u001b[0m\u001b[0m\n",
            "\u001b[0;31mNameError\u001b[0m: name 'histroy' is not defined"
          ]
        }
      ]
    },
    {
      "cell_type": "code",
      "metadata": {
        "id": "fawfIzk4jm-T"
      },
      "source": [
        "import pandas as pd\n",
        "\n",
        "def get_training_metrics(history):\n",
        "  \n",
        "  # This is needed depending on if you used the pretrained model or you trained it yourself\n",
        "  if not isinstance(history, pd.core.frame.DataFrame):\n",
        "    history = history.history\n",
        "  \n",
        "  acc = history['sparse_categorical_accuracy']\n",
        "  val_acc = history['val_sparse_categorical_accuracy']\n",
        "\n",
        "  loss = history['loss']\n",
        "  val_loss = history['val_loss']\n",
        "\n",
        "  return acc, val_acc, loss, val_loss\n",
        "\n",
        "def plot_train_eval(history):\n",
        "  acc, val_acc, loss, val_loss = get_training_metrics(history)\n",
        "\n",
        "  acc_plot = pd.DataFrame({\"training accuracy\":acc, \"evaluation accuracy\":val_acc})\n",
        "  acc_plot = sns.lineplot(data=acc_plot)\n",
        "  acc_plot.set_title('training vs evaluation accuracy')\n",
        "  acc_plot.set_xlabel('epoch')\n",
        "  acc_plot.set_ylabel('sparse_categorical_accuracy')\n",
        "  plt.show()\n",
        "\n",
        "  print(\"\")\n",
        "\n",
        "  loss_plot = pd.DataFrame({\"training loss\":loss, \"evaluation loss\":val_loss})\n",
        "  loss_plot = sns.lineplot(data=loss_plot)\n",
        "  loss_plot.set_title('training vs evaluation loss')\n",
        "  loss_plot.set_xlabel('epoch')\n",
        "  loss_plot.set_ylabel('loss')\n",
        "  plt.show()"
      ],
      "execution_count": null,
      "outputs": []
    },
    {
      "cell_type": "code",
      "metadata": {
        "colab": {
          "base_uri": "https://localhost:8080/",
          "height": 162
        },
        "id": "Y78XEM-Gj5YY",
        "outputId": "1275dc2b-e950-424f-b75e-cb1b8e1a5630"
      },
      "source": [
        "plot_train_eval(history)"
      ],
      "execution_count": null,
      "outputs": [
        {
          "output_type": "error",
          "ename": "NameError",
          "evalue": "ignored",
          "traceback": [
            "\u001b[0;31m---------------------------------------------------------------------------\u001b[0m",
            "\u001b[0;31mNameError\u001b[0m                                 Traceback (most recent call last)",
            "\u001b[0;32m<ipython-input-27-c9aa00a03057>\u001b[0m in \u001b[0;36m<module>\u001b[0;34m()\u001b[0m\n\u001b[0;32m----> 1\u001b[0;31m \u001b[0mplot_train_eval\u001b[0m\u001b[0;34m(\u001b[0m\u001b[0mhistory\u001b[0m\u001b[0;34m)\u001b[0m\u001b[0;34m\u001b[0m\u001b[0;34m\u001b[0m\u001b[0m\n\u001b[0m",
            "\u001b[0;31mNameError\u001b[0m: name 'history' is not defined"
          ]
        }
      ]
    },
    {
      "cell_type": "markdown",
      "metadata": {
        "id": "svZKrQ3d6h-7"
      },
      "source": [
        "Using VGGNet, we've been able to reach a maximum **validation accuracy of 99.3%**. As you can observe, the model has nearly saturated after only 10 epochs, so we can reduce the epochs to 10 and save computational resources.\n",
        "\n",
        "We'll use this model to predict the labels of the test set."
      ]
    },
    {
      "cell_type": "markdown",
      "metadata": {
        "id": "3vlHQQ3T6h-7"
      },
      "source": [
        "---\n",
        "\n",
        "## Step 5: Testing the Model using the Test Set\n",
        "\n",
        "Now, we'll use the testing set to measure the accuracy of the model over unknown examples."
      ]
    },
    {
      "cell_type": "code",
      "metadata": {
        "id": "YG80EqoU6h-7"
      },
      "source": [
        "# Test set preprocessing\n",
        "X_test_preprocessed = preprocess(X_test)"
      ],
      "execution_count": null,
      "outputs": []
    },
    {
      "cell_type": "code",
      "metadata": {
        "id": "UZEhbDWt6h-7",
        "colab": {
          "base_uri": "https://localhost:8080/"
        },
        "outputId": "62092292-d7fc-40be-a2b5-fbfce31e3cb4"
      },
      "source": [
        "# test set on the LeNet model!\n",
        "with tf.Session() as sess:\n",
        "    LeNet_Model.saver.restore(sess,os.path.join('/content/drive/MyDrive/Colab Notebooks/Datasets/LeNet_with_Data_Augmentation', \"LeNet_with_Data_Augmentation\"))\n",
        "    y_pred = LeNet_Model.y_predict(X_test_preprocessed)\n",
        "    test_accuracy = sum(y_test == y_pred)/len(y_test)\n",
        "    print(\"Test Accuracy = {:.1f}%\".format(test_accuracy*100))"
      ],
      "execution_count": null,
      "outputs": [
        {
          "output_type": "stream",
          "text": [
            "INFO:tensorflow:Restoring parameters from /content/drive/MyDrive/Colab Notebooks/Datasets/LeNet_with_Data_Augmentation/LeNet_with_Data_Augmentation\n",
            "Test Accuracy = 90.9%\n"
          ],
          "name": "stdout"
        }
      ]
    },
    {
      "cell_type": "code",
      "metadata": {
        "colab": {
          "base_uri": "https://localhost:8080/"
        },
        "id": "VB--qMShV6cE",
        "outputId": "035417bc-6b43-4240-fc99-7478aa7d1399"
      },
      "source": [
        "# test set on the VGGNet model!\n",
        "with tf.Session() as sess:\n",
        "    VGGNet_Model.saver.restore(sess, os.path.join('/content/drive/MyDrive/Colab Notebooks/Datasets', \"VGGNet\"))\n",
        "    y_pred = VGGNet_Model.y_predict(X_test_preprocessed)\n",
        "    test_accuracy = sum(y_test == y_pred)/len(y_test)\n",
        "    print(\"Test Accuracy = {:.1f}%\".format(test_accuracy*100))"
      ],
      "execution_count": null,
      "outputs": [
        {
          "output_type": "stream",
          "text": [
            "INFO:tensorflow:Restoring parameters from /content/drive/MyDrive/Colab Notebooks/Datasets/VGGNet\n",
            "Test Accuracy = 96.6%\n"
          ],
          "name": "stdout"
        }
      ]
    },
    {
      "cell_type": "code",
      "metadata": {
        "id": "TPoGXC01yyZA"
      },
      "source": [
        "y_pred.shape"
      ],
      "execution_count": null,
      "outputs": []
    },
    {
      "cell_type": "markdown",
      "metadata": {
        "id": "qW7FMEPC6h-7"
      },
      "source": [
        "### Test Accuracy = 97.6%"
      ]
    },
    {
      "cell_type": "markdown",
      "metadata": {
        "id": "dh7j66Lw6h-8"
      },
      "source": [
        "A remarkable performance!"
      ]
    },
    {
      "cell_type": "markdown",
      "metadata": {
        "id": "IrRhUYbR6h-8"
      },
      "source": [
        "Now we'll plot the confusion matrix to see where the model actually fails."
      ]
    },
    {
      "cell_type": "code",
      "metadata": {
        "id": "hUQaQSMu6h-8"
      },
      "source": [
        "cm = confusion_matrix(y_test, y_pred)\n",
        "# cm = cm.astype('float') / cm.sum(axis=1)[:, np.newaxis]\n",
        "# cm = np.log(.0001 + cm)\n",
        "# plt.imshow(cm, interpolation='nearest', cmap=plt.cm.Blues)\n",
        "# plt.title('Log of normalized Confusion Matrix')\n",
        "# plt.ylabel('True label')\n",
        "# plt.xlabel('Predicted label')\n",
        "# plt.show()"
      ],
      "execution_count": null,
      "outputs": []
    },
    {
      "cell_type": "code",
      "metadata": {
        "id": "ePP0157O9gQD"
      },
      "source": [
        ""
      ],
      "execution_count": null,
      "outputs": []
    },
    {
      "cell_type": "code",
      "metadata": {
        "colab": {
          "base_uri": "https://localhost:8080/",
          "height": 292
        },
        "id": "yfmpdZLZ6Hvt",
        "outputId": "776d0d33-411c-464d-bfe9-5165f7f9ce8d"
      },
      "source": [
        "plt.matshow(cm)"
      ],
      "execution_count": null,
      "outputs": [
        {
          "output_type": "execute_result",
          "data": {
            "text/plain": [
              "<matplotlib.image.AxesImage at 0x7f0407c71690>"
            ]
          },
          "metadata": {
            "tags": []
          },
          "execution_count": 36
        },
        {
          "output_type": "display_data",
          "data": {
            "image/png": "[encoded data removed]",
            "text/plain": [
              "<Figure size 288x288 with 1 Axes>"
            ]
          },
          "metadata": {
            "tags": [],
            "needs_background": "light"
          }
        }
      ]
    },
    {
      "cell_type": "markdown",
      "metadata": {
        "id": "MoLgomru6h-8"
      },
      "source": [
        "We observe some clusters in the confusion matrix above. It turns out that the various speed limits are sometimes misclassified among themselves. Similarly, traffic signs with traingular shape are misclassified among themselves. We can further improve on the model using hierarchical CNNs to first identify broader groups (like speed signs) and then have CNNs to classify finer features (such as the actual speed limit)."
      ]
    },
    {
      "cell_type": "markdown",
      "metadata": {
        "id": "rXYwCSrx6h-8"
      },
      "source": [
        "---\n",
        "\n",
        "## Step 6: Testing the Model on New Images\n",
        "\n",
        "In this step, we will use the model to predict traffic signs type of 5 random images of German traffic signs from the web our model's performance on these images."
      ]
    },
    {
      "cell_type": "code",
      "metadata": {
        "id": "yUhRm6p86h-9"
      },
      "source": [
        "# Loading and resizing new test images\n",
        "new_test_images = []\n",
        "path = './traffic-signs-data/new_test_images/'\n",
        "for image in os.listdir(path):\n",
        "    img = cv2.imread(path + image)\n",
        "    img = cv2.resize(img, (32,32))\n",
        "    img = cv2.cvtColor(img, cv2.COLOR_BGR2RGB)\n",
        "    new_test_images.append(img)\n",
        "new_IDs = [13, 3, 14, 27, 17]\n",
        "print(\"Number of new testing examples: \", len(new_test_images))"
      ],
      "execution_count": null,
      "outputs": []
    },
    {
      "cell_type": "markdown",
      "metadata": {
        "id": "_VAbTVjb6h-9"
      },
      "source": [
        "Displaying the new testing examples, with their respective ground-truth labels:"
      ]
    },
    {
      "cell_type": "code",
      "metadata": {
        "id": "VFUGwOMB6h-9"
      },
      "source": [
        "plt.figure(figsize=(15, 16))\n",
        "for i in range(len(new_test_images)):\n",
        "    plt.subplot(2, 5, i+1)\n",
        "    plt.imshow(new_test_images[i])\n",
        "    plt.xlabel(signs[new_IDs[i]])\n",
        "    plt.ylabel(\"New testing image\")\n",
        "    plt.xticks([])\n",
        "    plt.yticks([])\n",
        "plt.tight_layout(pad=0, h_pad=0, w_pad=0)\n",
        "plt.show()"
      ],
      "execution_count": null,
      "outputs": []
    },
    {
      "cell_type": "markdown",
      "metadata": {
        "id": "K2pnTx526h-9"
      },
      "source": [
        "These test images include some easy to predict signs, and other signs are considered hard for the model to predict.\n",
        "\n",
        "For instance, we have easy to predict signs like the \"Stop\" and the \"No entry\". The two signs are clear and belong to classes where the model can predict with  high accuracy.\n",
        "\n",
        "On the other hand, we have signs belong to classes where has poor accuracy, like the \"Speed limit\" sign, because as stated above it turns out that the various speed limits are sometimes misclassified among themselves, and the \"Pedestrians\" sign, because traffic signs with traingular shape are misclassified among themselves."
      ]
    },
    {
      "cell_type": "code",
      "metadata": {
        "id": "GE-7WNKo6h--"
      },
      "source": [
        "# New test data preprocessing\n",
        "new_test_images_preprocessed = preprocess(np.asarray(new_test_images))"
      ],
      "execution_count": null,
      "outputs": []
    },
    {
      "cell_type": "code",
      "metadata": {
        "id": "yd60GIWw6h--"
      },
      "source": [
        "def y_predict_model(Input_data, top_k=5):\n",
        "    \"\"\"\n",
        "    Generates the predictions of the model over the input data, and outputs the top softmax probabilities.\n",
        "        Parameters:\n",
        "            X_data: Input data.\n",
        "            top_k (Default = 5): The number of top softmax probabilities to be generated.\n",
        "    \"\"\"\n",
        "    num_examples = len(Input_data)\n",
        "    y_pred = np.zeros((num_examples, top_k), dtype=np.int32)\n",
        "    y_prob = np.zeros((num_examples, top_k))\n",
        "    with tf.Session() as sess:\n",
        "        VGGNet_Model.saver.restore(sess, os.path.join(DIR, \"VGGNet\"))\n",
        "        y_prob, y_pred = sess.run(tf.nn.top_k(tf.nn.softmax(VGGNet_Model.logits), k=top_k), \n",
        "                             feed_dict={x:Input_data, keep_prob:1, keep_prob_conv:1})\n",
        "    return y_prob, y_pred\n",
        "\n",
        "y_prob, y_pred = y_predict_model(new_test_images_preprocessed)\n",
        "\n",
        "test_accuracy = 0\n",
        "for i in enumerate(new_test_images_preprocessed):\n",
        "    accu = new_IDs[i[0]] == np.asarray(y_pred[i[0]])[0]\n",
        "    if accu == True:\n",
        "        test_accuracy += 0.2\n",
        "print(\"New Images Test Accuracy = {:.1f}%\".format(test_accuracy*100))\n",
        "\n",
        "plt.figure(figsize=(15, 16))\n",
        "new_test_images_len=len(new_test_images_preprocessed)\n",
        "for i in range(new_test_images_len):\n",
        "    plt.subplot(new_test_images_len, 2, 2*i+1)\n",
        "    plt.imshow(new_test_images[i]) \n",
        "    plt.title(signs[y_pred[i][0]])\n",
        "    plt.axis('off')\n",
        "    plt.subplot(new_test_images_len, 2, 2*i+2)\n",
        "    plt.barh(np.arange(1, 6, 1), y_prob[i, :])\n",
        "    labels = [signs[j] for j in y_pred[i]]\n",
        "    plt.yticks(np.arange(1, 6, 1), labels)\n",
        "plt.show()"
      ],
      "execution_count": null,
      "outputs": []
    },
    {
      "cell_type": "markdown",
      "metadata": {
        "id": "an9P6gzS6h--"
      },
      "source": [
        "As we can notice from the top 5 softmax probabilities, the model has very high confidence (100%) when it comes to predict simple signs, like the \"Stop\" and the \"No entry\" sign, and even high confidence when predicting simple triangular signs in a very clear image, like the \"Yield\" sign.\n",
        "\n",
        "On the other hand, the model's confidence slightly reduces with more complex triangular sign in a \"pretty noisy\" image, in the \"Pedestrian\" sign image, we have a triangular sign with a shape inside it, and the images copyrights adds some noise to the image, the model was able to predict the true class, but with 80% confidence.\n",
        "\n",
        "And in the \"Speed limit\" sign, we can observe that the model accurately predicted that it's a \"Speed limit\" sign, but was somehow confused between the different speed limits. However, it predicted the true class at the end.\n",
        "\n",
        "The VGGNet model was able to predict the right class for each of the 5 new test images. Test Accuracy = 100.0%.\n",
        "In all cases, the model was very certain (80% - 100%)."
      ]
    },
    {
      "cell_type": "markdown",
      "metadata": {
        "id": "sdETDCxJ6h-_"
      },
      "source": [
        "---\n",
        "\n",
        "## Conclusion\n",
        "\n",
        "Using VGGNet, we've been able to reach a very high accuracy rate. We can observe that the models saturate after nearly 10 epochs, so we can save some computational resources and reduce the number of epochs to 10.\n",
        "We can also try other preprocessing techniques to further improve the model's accuracy..\n",
        "We can further improve on the model using hierarchical CNNs to first identify broader groups (like speed signs) and then have CNNs to classify finer features (such as the actual speed limit)\n",
        "This model will only work on input examples where the traffic signs are centered in the middle of the image. It doesn't have the capability to detect signs in the image corners."
      ]
    },
    {
      "cell_type": "code",
      "metadata": {
        "id": "9QNL2GR96h-_"
      },
      "source": [
        ""
      ],
      "execution_count": null,
      "outputs": []
    }
  ]
}